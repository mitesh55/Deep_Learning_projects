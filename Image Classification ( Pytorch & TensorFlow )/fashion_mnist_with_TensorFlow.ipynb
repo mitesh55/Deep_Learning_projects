{
 "cells": [
  {
   "cell_type": "code",
   "execution_count": 1,
   "metadata": {
    "id": "soLvtj68_FJl"
   },
   "outputs": [],
   "source": [
    "import pandas as pd"
   ]
  },
  {
   "cell_type": "code",
   "execution_count": 4,
   "metadata": {
    "id": "abZZ2EiZ_z4F"
   },
   "outputs": [],
   "source": [
    "mnist = pd.read_csv(r'E:\\ExcelR_Ai_ass\\CNN\\fashion_mnist\\fashion-mnist_train.csv')"
   ]
  },
  {
   "cell_type": "code",
   "execution_count": 5,
   "metadata": {
    "colab": {
     "base_uri": "https://localhost:8080/",
     "height": 252
    },
    "id": "7l7rlG_rCpDe",
    "outputId": "92c0a62c-7000-4640-9306-c300a8206b4b"
   },
   "outputs": [
    {
     "data": {
      "text/html": [
       "<div>\n",
       "<style scoped>\n",
       "    .dataframe tbody tr th:only-of-type {\n",
       "        vertical-align: middle;\n",
       "    }\n",
       "\n",
       "    .dataframe tbody tr th {\n",
       "        vertical-align: top;\n",
       "    }\n",
       "\n",
       "    .dataframe thead th {\n",
       "        text-align: right;\n",
       "    }\n",
       "</style>\n",
       "<table border=\"1\" class=\"dataframe\">\n",
       "  <thead>\n",
       "    <tr style=\"text-align: right;\">\n",
       "      <th></th>\n",
       "      <th>label</th>\n",
       "      <th>pixel1</th>\n",
       "      <th>pixel2</th>\n",
       "      <th>pixel3</th>\n",
       "      <th>pixel4</th>\n",
       "      <th>pixel5</th>\n",
       "      <th>pixel6</th>\n",
       "      <th>pixel7</th>\n",
       "      <th>pixel8</th>\n",
       "      <th>pixel9</th>\n",
       "      <th>...</th>\n",
       "      <th>pixel775</th>\n",
       "      <th>pixel776</th>\n",
       "      <th>pixel777</th>\n",
       "      <th>pixel778</th>\n",
       "      <th>pixel779</th>\n",
       "      <th>pixel780</th>\n",
       "      <th>pixel781</th>\n",
       "      <th>pixel782</th>\n",
       "      <th>pixel783</th>\n",
       "      <th>pixel784</th>\n",
       "    </tr>\n",
       "  </thead>\n",
       "  <tbody>\n",
       "    <tr>\n",
       "      <th>0</th>\n",
       "      <td>2</td>\n",
       "      <td>0</td>\n",
       "      <td>0</td>\n",
       "      <td>0</td>\n",
       "      <td>0</td>\n",
       "      <td>0</td>\n",
       "      <td>0</td>\n",
       "      <td>0</td>\n",
       "      <td>0</td>\n",
       "      <td>0</td>\n",
       "      <td>...</td>\n",
       "      <td>0</td>\n",
       "      <td>0</td>\n",
       "      <td>0</td>\n",
       "      <td>0</td>\n",
       "      <td>0</td>\n",
       "      <td>0</td>\n",
       "      <td>0</td>\n",
       "      <td>0</td>\n",
       "      <td>0</td>\n",
       "      <td>0</td>\n",
       "    </tr>\n",
       "    <tr>\n",
       "      <th>1</th>\n",
       "      <td>9</td>\n",
       "      <td>0</td>\n",
       "      <td>0</td>\n",
       "      <td>0</td>\n",
       "      <td>0</td>\n",
       "      <td>0</td>\n",
       "      <td>0</td>\n",
       "      <td>0</td>\n",
       "      <td>0</td>\n",
       "      <td>0</td>\n",
       "      <td>...</td>\n",
       "      <td>0</td>\n",
       "      <td>0</td>\n",
       "      <td>0</td>\n",
       "      <td>0</td>\n",
       "      <td>0</td>\n",
       "      <td>0</td>\n",
       "      <td>0</td>\n",
       "      <td>0</td>\n",
       "      <td>0</td>\n",
       "      <td>0</td>\n",
       "    </tr>\n",
       "    <tr>\n",
       "      <th>2</th>\n",
       "      <td>6</td>\n",
       "      <td>0</td>\n",
       "      <td>0</td>\n",
       "      <td>0</td>\n",
       "      <td>0</td>\n",
       "      <td>0</td>\n",
       "      <td>0</td>\n",
       "      <td>0</td>\n",
       "      <td>5</td>\n",
       "      <td>0</td>\n",
       "      <td>...</td>\n",
       "      <td>0</td>\n",
       "      <td>0</td>\n",
       "      <td>0</td>\n",
       "      <td>30</td>\n",
       "      <td>43</td>\n",
       "      <td>0</td>\n",
       "      <td>0</td>\n",
       "      <td>0</td>\n",
       "      <td>0</td>\n",
       "      <td>0</td>\n",
       "    </tr>\n",
       "    <tr>\n",
       "      <th>3</th>\n",
       "      <td>0</td>\n",
       "      <td>0</td>\n",
       "      <td>0</td>\n",
       "      <td>0</td>\n",
       "      <td>1</td>\n",
       "      <td>2</td>\n",
       "      <td>0</td>\n",
       "      <td>0</td>\n",
       "      <td>0</td>\n",
       "      <td>0</td>\n",
       "      <td>...</td>\n",
       "      <td>3</td>\n",
       "      <td>0</td>\n",
       "      <td>0</td>\n",
       "      <td>0</td>\n",
       "      <td>0</td>\n",
       "      <td>1</td>\n",
       "      <td>0</td>\n",
       "      <td>0</td>\n",
       "      <td>0</td>\n",
       "      <td>0</td>\n",
       "    </tr>\n",
       "    <tr>\n",
       "      <th>4</th>\n",
       "      <td>3</td>\n",
       "      <td>0</td>\n",
       "      <td>0</td>\n",
       "      <td>0</td>\n",
       "      <td>0</td>\n",
       "      <td>0</td>\n",
       "      <td>0</td>\n",
       "      <td>0</td>\n",
       "      <td>0</td>\n",
       "      <td>0</td>\n",
       "      <td>...</td>\n",
       "      <td>0</td>\n",
       "      <td>0</td>\n",
       "      <td>0</td>\n",
       "      <td>0</td>\n",
       "      <td>0</td>\n",
       "      <td>0</td>\n",
       "      <td>0</td>\n",
       "      <td>0</td>\n",
       "      <td>0</td>\n",
       "      <td>0</td>\n",
       "    </tr>\n",
       "  </tbody>\n",
       "</table>\n",
       "<p>5 rows × 785 columns</p>\n",
       "</div>"
      ],
      "text/plain": [
       "   label  pixel1  pixel2  pixel3  pixel4  pixel5  pixel6  pixel7  pixel8  \\\n",
       "0      2       0       0       0       0       0       0       0       0   \n",
       "1      9       0       0       0       0       0       0       0       0   \n",
       "2      6       0       0       0       0       0       0       0       5   \n",
       "3      0       0       0       0       1       2       0       0       0   \n",
       "4      3       0       0       0       0       0       0       0       0   \n",
       "\n",
       "   pixel9  ...  pixel775  pixel776  pixel777  pixel778  pixel779  pixel780  \\\n",
       "0       0  ...         0         0         0         0         0         0   \n",
       "1       0  ...         0         0         0         0         0         0   \n",
       "2       0  ...         0         0         0        30        43         0   \n",
       "3       0  ...         3         0         0         0         0         1   \n",
       "4       0  ...         0         0         0         0         0         0   \n",
       "\n",
       "   pixel781  pixel782  pixel783  pixel784  \n",
       "0         0         0         0         0  \n",
       "1         0         0         0         0  \n",
       "2         0         0         0         0  \n",
       "3         0         0         0         0  \n",
       "4         0         0         0         0  \n",
       "\n",
       "[5 rows x 785 columns]"
      ]
     },
     "execution_count": 5,
     "metadata": {},
     "output_type": "execute_result"
    }
   ],
   "source": [
    "mnist.head()"
   ]
  },
  {
   "cell_type": "markdown",
   "metadata": {
    "id": "puMtR-7cCvcj"
   },
   "source": [
    "# split data into x & y form :"
   ]
  },
  {
   "cell_type": "code",
   "execution_count": 6,
   "metadata": {
    "colab": {
     "base_uri": "https://localhost:8080/"
    },
    "id": "XbWn-6zrCt1I",
    "outputId": "f62f5796-65a4-424a-ecec-1f1a3ff3dcca"
   },
   "outputs": [
    {
     "data": {
      "text/plain": [
       "(60000, 784)"
      ]
     },
     "execution_count": 6,
     "metadata": {},
     "output_type": "execute_result"
    }
   ],
   "source": [
    "x = mnist.iloc[:,1:]\n",
    "x.shape"
   ]
  },
  {
   "cell_type": "code",
   "execution_count": 7,
   "metadata": {
    "colab": {
     "base_uri": "https://localhost:8080/"
    },
    "id": "FEyGdY_jC3Ck",
    "outputId": "fa36cc6e-f07b-484b-f351-47f2315830ea"
   },
   "outputs": [
    {
     "data": {
      "text/plain": [
       "(60000,)"
      ]
     },
     "execution_count": 7,
     "metadata": {},
     "output_type": "execute_result"
    }
   ],
   "source": [
    "y = mnist.iloc[:,0]\n",
    "y.shape"
   ]
  },
  {
   "cell_type": "code",
   "execution_count": 8,
   "metadata": {
    "colab": {
     "base_uri": "https://localhost:8080/"
    },
    "id": "TukX2dG-DAKU",
    "outputId": "94348c96-9da5-4d33-9edd-1fe3c38f1fd8"
   },
   "outputs": [
    {
     "data": {
      "text/plain": [
       "0        2\n",
       "1        9\n",
       "2        6\n",
       "3        0\n",
       "4        3\n",
       "        ..\n",
       "59995    9\n",
       "59996    1\n",
       "59997    8\n",
       "59998    8\n",
       "59999    7\n",
       "Name: label, Length: 60000, dtype: int64"
      ]
     },
     "execution_count": 8,
     "metadata": {
      "tags": []
     },
     "output_type": "execute_result"
    }
   ],
   "source": [
    "y"
   ]
  },
  {
   "cell_type": "code",
   "execution_count": 8,
   "metadata": {
    "id": "ap3l3WREDTHP"
   },
   "outputs": [],
   "source": [
    "import numpy as np\n",
    "x = np.array(x)\n",
    "y = np.array(y)"
   ]
  },
  {
   "cell_type": "markdown",
   "metadata": {
    "id": "VYc5dAf5DC3g"
   },
   "source": [
    "# Visualize first 25 images :"
   ]
  },
  {
   "cell_type": "code",
   "execution_count": 12,
   "metadata": {
    "colab": {
     "base_uri": "https://localhost:8080/",
     "height": 865
    },
    "id": "t08pFM86DA7j",
    "outputId": "c57b1bc4-4e7c-49c0-b82d-ac090574986b"
   },
   "outputs": [
    {
     "data": {
      "image/png": "[encoded data removed]",
      "text/plain": [
       "<Figure size 1440x1080 with 25 Axes>"
      ]
     },
     "metadata": {
      "needs_background": "light"
     },
     "output_type": "display_data"
    }
   ],
   "source": [
    "import numpy as np\n",
    "import matplotlib.pyplot as plt\n",
    "n = 0\n",
    "rows = 5\n",
    "cols = 5\n",
    "fig, ax = plt.subplots(rows, cols, sharex=True, sharey=True, figsize=(20,15))\n",
    "for row in range(rows):\n",
    "    for col in range(cols):\n",
    "        ax[row,col].imshow((x[n].reshape(28,28)))\n",
    "        n += 1"
   ]
  },
  {
   "cell_type": "markdown",
   "metadata": {
    "id": "H97L5pwCDxEw"
   },
   "source": [
    "## Convert classes into Categorical form :"
   ]
  },
  {
   "cell_type": "code",
   "execution_count": 12,
   "metadata": {
    "colab": {
     "base_uri": "https://localhost:8080/"
    },
    "id": "dbQy8-P7DO0e",
    "outputId": "a85fbd86-27de-4599-f37e-53aa1ff6e1f0"
   },
   "outputs": [
    {
     "data": {
      "text/plain": [
       "(60000, 10)"
      ]
     },
     "execution_count": 12,
     "metadata": {
      "tags": []
     },
     "output_type": "execute_result"
    }
   ],
   "source": [
    "from keras.utils.np_utils import to_categorical\n",
    "y = to_categorical(y, num_classes= 10)\n",
    "y.shape"
   ]
  },
  {
   "cell_type": "markdown",
   "metadata": {
    "id": "8s0eWT7DD8js"
   },
   "source": [
    "## Normalization :"
   ]
  },
  {
   "cell_type": "code",
   "execution_count": 13,
   "metadata": {
    "id": "806mTiyTDvcH"
   },
   "outputs": [],
   "source": [
    "x = x/255"
   ]
  },
  {
   "cell_type": "code",
   "execution_count": 14,
   "metadata": {
    "colab": {
     "base_uri": "https://localhost:8080/"
    },
    "id": "13-kL49TEAvm",
    "outputId": "21e58784-c19f-4790-d5c9-06e4a232b168"
   },
   "outputs": [
    {
     "data": {
      "text/plain": [
       "array([[0., 0., 0., ..., 0., 0., 0.],\n",
       "       [0., 0., 0., ..., 0., 0., 0.],\n",
       "       [0., 0., 0., ..., 0., 0., 0.],\n",
       "       ...,\n",
       "       [0., 0., 0., ..., 0., 0., 0.],\n",
       "       [0., 0., 0., ..., 0., 0., 0.],\n",
       "       [0., 0., 0., ..., 0., 0., 0.]])"
      ]
     },
     "execution_count": 14,
     "metadata": {
      "tags": []
     },
     "output_type": "execute_result"
    }
   ],
   "source": [
    "x"
   ]
  },
  {
   "cell_type": "markdown",
   "metadata": {
    "id": "mHFAZVA4EJvC"
   },
   "source": [
    "## Reshape data :"
   ]
  },
  {
   "cell_type": "code",
   "execution_count": 15,
   "metadata": {
    "id": "PHZkzzJQEFZn"
   },
   "outputs": [],
   "source": [
    "x = x.reshape(-1,28,28,1)"
   ]
  },
  {
   "cell_type": "code",
   "execution_count": 16,
   "metadata": {
    "colab": {
     "base_uri": "https://localhost:8080/"
    },
    "id": "cLYHORLcEPBk",
    "outputId": "49531920-582b-4afc-d979-b5be38641ff9"
   },
   "outputs": [
    {
     "data": {
      "text/plain": [
       "array([[[[0.        ],\n",
       "         [0.        ],\n",
       "         [0.        ],\n",
       "         ...,\n",
       "         [0.        ],\n",
       "         [0.        ],\n",
       "         [0.        ]],\n",
       "\n",
       "        [[0.        ],\n",
       "         [0.        ],\n",
       "         [0.        ],\n",
       "         ...,\n",
       "         [0.        ],\n",
       "         [0.        ],\n",
       "         [0.        ]],\n",
       "\n",
       "        [[0.        ],\n",
       "         [0.        ],\n",
       "         [0.        ],\n",
       "         ...,\n",
       "         [0.        ],\n",
       "         [0.        ],\n",
       "         [0.        ]],\n",
       "\n",
       "        ...,\n",
       "\n",
       "        [[0.        ],\n",
       "         [0.        ],\n",
       "         [0.        ],\n",
       "         ...,\n",
       "         [0.        ],\n",
       "         [0.        ],\n",
       "         [0.        ]],\n",
       "\n",
       "        [[0.        ],\n",
       "         [0.        ],\n",
       "         [0.        ],\n",
       "         ...,\n",
       "         [0.        ],\n",
       "         [0.        ],\n",
       "         [0.        ]],\n",
       "\n",
       "        [[0.        ],\n",
       "         [0.        ],\n",
       "         [0.        ],\n",
       "         ...,\n",
       "         [0.        ],\n",
       "         [0.        ],\n",
       "         [0.        ]]],\n",
       "\n",
       "\n",
       "       [[[0.        ],\n",
       "         [0.        ],\n",
       "         [0.        ],\n",
       "         ...,\n",
       "         [0.        ],\n",
       "         [0.        ],\n",
       "         [0.        ]],\n",
       "\n",
       "        [[0.        ],\n",
       "         [0.        ],\n",
       "         [0.        ],\n",
       "         ...,\n",
       "         [0.        ],\n",
       "         [0.        ],\n",
       "         [0.        ]],\n",
       "\n",
       "        [[0.        ],\n",
       "         [0.        ],\n",
       "         [0.        ],\n",
       "         ...,\n",
       "         [0.        ],\n",
       "         [0.        ],\n",
       "         [0.        ]],\n",
       "\n",
       "        ...,\n",
       "\n",
       "        [[0.        ],\n",
       "         [0.        ],\n",
       "         [0.        ],\n",
       "         ...,\n",
       "         [0.        ],\n",
       "         [0.        ],\n",
       "         [0.        ]],\n",
       "\n",
       "        [[0.        ],\n",
       "         [0.        ],\n",
       "         [0.        ],\n",
       "         ...,\n",
       "         [0.        ],\n",
       "         [0.        ],\n",
       "         [0.        ]],\n",
       "\n",
       "        [[0.        ],\n",
       "         [0.        ],\n",
       "         [0.        ],\n",
       "         ...,\n",
       "         [0.        ],\n",
       "         [0.        ],\n",
       "         [0.        ]]],\n",
       "\n",
       "\n",
       "       [[[0.        ],\n",
       "         [0.        ],\n",
       "         [0.        ],\n",
       "         ...,\n",
       "         [0.        ],\n",
       "         [0.        ],\n",
       "         [0.        ]],\n",
       "\n",
       "        [[0.        ],\n",
       "         [0.        ],\n",
       "         [0.        ],\n",
       "         ...,\n",
       "         [0.        ],\n",
       "         [0.        ],\n",
       "         [0.        ]],\n",
       "\n",
       "        [[0.        ],\n",
       "         [0.        ],\n",
       "         [0.        ],\n",
       "         ...,\n",
       "         [0.        ],\n",
       "         [0.        ],\n",
       "         [0.        ]],\n",
       "\n",
       "        ...,\n",
       "\n",
       "        [[0.        ],\n",
       "         [0.        ],\n",
       "         [0.        ],\n",
       "         ...,\n",
       "         [0.        ],\n",
       "         [0.        ],\n",
       "         [0.        ]],\n",
       "\n",
       "        [[0.        ],\n",
       "         [0.        ],\n",
       "         [0.        ],\n",
       "         ...,\n",
       "         [0.        ],\n",
       "         [0.        ],\n",
       "         [0.        ]],\n",
       "\n",
       "        [[0.        ],\n",
       "         [0.        ],\n",
       "         [0.        ],\n",
       "         ...,\n",
       "         [0.        ],\n",
       "         [0.        ],\n",
       "         [0.        ]]],\n",
       "\n",
       "\n",
       "       ...,\n",
       "\n",
       "\n",
       "       [[[0.        ],\n",
       "         [0.        ],\n",
       "         [0.        ],\n",
       "         ...,\n",
       "         [0.        ],\n",
       "         [0.        ],\n",
       "         [0.        ]],\n",
       "\n",
       "        [[0.        ],\n",
       "         [0.        ],\n",
       "         [0.        ],\n",
       "         ...,\n",
       "         [0.        ],\n",
       "         [0.        ],\n",
       "         [0.        ]],\n",
       "\n",
       "        [[0.        ],\n",
       "         [0.        ],\n",
       "         [0.        ],\n",
       "         ...,\n",
       "         [0.        ],\n",
       "         [0.        ],\n",
       "         [0.        ]],\n",
       "\n",
       "        ...,\n",
       "\n",
       "        [[0.        ],\n",
       "         [0.        ],\n",
       "         [0.        ],\n",
       "         ...,\n",
       "         [0.        ],\n",
       "         [0.        ],\n",
       "         [0.        ]],\n",
       "\n",
       "        [[0.        ],\n",
       "         [0.        ],\n",
       "         [0.        ],\n",
       "         ...,\n",
       "         [0.        ],\n",
       "         [0.        ],\n",
       "         [0.        ]],\n",
       "\n",
       "        [[0.        ],\n",
       "         [0.        ],\n",
       "         [0.        ],\n",
       "         ...,\n",
       "         [0.        ],\n",
       "         [0.        ],\n",
       "         [0.        ]]],\n",
       "\n",
       "\n",
       "       [[[0.        ],\n",
       "         [0.        ],\n",
       "         [0.        ],\n",
       "         ...,\n",
       "         [0.        ],\n",
       "         [0.        ],\n",
       "         [0.        ]],\n",
       "\n",
       "        [[0.        ],\n",
       "         [0.        ],\n",
       "         [0.        ],\n",
       "         ...,\n",
       "         [0.        ],\n",
       "         [0.        ],\n",
       "         [0.        ]],\n",
       "\n",
       "        [[0.        ],\n",
       "         [0.        ],\n",
       "         [0.        ],\n",
       "         ...,\n",
       "         [0.        ],\n",
       "         [0.        ],\n",
       "         [0.        ]],\n",
       "\n",
       "        ...,\n",
       "\n",
       "        [[0.        ],\n",
       "         [0.        ],\n",
       "         [0.62352941],\n",
       "         ...,\n",
       "         [0.01960784],\n",
       "         [0.        ],\n",
       "         [0.        ]],\n",
       "\n",
       "        [[0.        ],\n",
       "         [0.        ],\n",
       "         [0.        ],\n",
       "         ...,\n",
       "         [0.        ],\n",
       "         [0.        ],\n",
       "         [0.00392157]],\n",
       "\n",
       "        [[0.        ],\n",
       "         [0.        ],\n",
       "         [0.        ],\n",
       "         ...,\n",
       "         [0.        ],\n",
       "         [0.        ],\n",
       "         [0.        ]]],\n",
       "\n",
       "\n",
       "       [[[0.        ],\n",
       "         [0.        ],\n",
       "         [0.        ],\n",
       "         ...,\n",
       "         [0.        ],\n",
       "         [0.        ],\n",
       "         [0.        ]],\n",
       "\n",
       "        [[0.        ],\n",
       "         [0.        ],\n",
       "         [0.        ],\n",
       "         ...,\n",
       "         [0.        ],\n",
       "         [0.        ],\n",
       "         [0.        ]],\n",
       "\n",
       "        [[0.        ],\n",
       "         [0.        ],\n",
       "         [0.        ],\n",
       "         ...,\n",
       "         [0.        ],\n",
       "         [0.        ],\n",
       "         [0.        ]],\n",
       "\n",
       "        ...,\n",
       "\n",
       "        [[0.        ],\n",
       "         [0.        ],\n",
       "         [0.        ],\n",
       "         ...,\n",
       "         [0.        ],\n",
       "         [0.        ],\n",
       "         [0.        ]],\n",
       "\n",
       "        [[0.        ],\n",
       "         [0.        ],\n",
       "         [0.        ],\n",
       "         ...,\n",
       "         [0.        ],\n",
       "         [0.        ],\n",
       "         [0.        ]],\n",
       "\n",
       "        [[0.        ],\n",
       "         [0.        ],\n",
       "         [0.        ],\n",
       "         ...,\n",
       "         [0.        ],\n",
       "         [0.        ],\n",
       "         [0.        ]]]])"
      ]
     },
     "execution_count": 16,
     "metadata": {
      "tags": []
     },
     "output_type": "execute_result"
    }
   ],
   "source": [
    "x"
   ]
  },
  {
   "cell_type": "code",
   "execution_count": 19,
   "metadata": {
    "colab": {
     "base_uri": "https://localhost:8080/",
     "height": 282
    },
    "id": "EUm85vEYEP8T",
    "outputId": "074b2ba1-f4fb-4187-8254-acd7877dcab2"
   },
   "outputs": [
    {
     "data": {
      "text/plain": [
       "<matplotlib.image.AxesImage at 0x7fbc01f711d0>"
      ]
     },
     "execution_count": 19,
     "metadata": {
      "tags": []
     },
     "output_type": "execute_result"
    },
    {
     "data": {
      "image/png": "[encoded data removed]",
      "text/plain": [
       "<Figure size 432x288 with 1 Axes>"
      ]
     },
     "metadata": {
      "needs_background": "light",
      "tags": []
     },
     "output_type": "display_data"
    }
   ],
   "source": [
    "# visualize random data :\n",
    "plt.imshow(x[20][:,:,0])"
   ]
  },
  {
   "cell_type": "code",
   "execution_count": 20,
   "metadata": {
    "colab": {
     "base_uri": "https://localhost:8080/"
    },
    "id": "lJdwP9zdEWtN",
    "outputId": "5b6f002d-4c55-435c-a1d7-fa9fafb92fec"
   },
   "outputs": [
    {
     "data": {
      "text/plain": [
       "(60000, 28, 28, 1)"
      ]
     },
     "execution_count": 20,
     "metadata": {
      "tags": []
     },
     "output_type": "execute_result"
    }
   ],
   "source": [
    "x.shape"
   ]
  },
  {
   "cell_type": "markdown",
   "metadata": {
    "id": "XRR4RE84Egkv"
   },
   "source": [
    "# Split dataset into Training & Testing dataset :"
   ]
  },
  {
   "cell_type": "code",
   "execution_count": 22,
   "metadata": {
    "colab": {
     "base_uri": "https://localhost:8080/"
    },
    "id": "0Kc_4luFEeF4",
    "outputId": "6902a772-5b4a-4217-c7c8-57fd169a3bcb"
   },
   "outputs": [
    {
     "data": {
      "text/plain": [
       "((51000, 28, 28, 1), (9000, 28, 28, 1))"
      ]
     },
     "execution_count": 22,
     "metadata": {
      "tags": []
     },
     "output_type": "execute_result"
    }
   ],
   "source": [
    "from sklearn.model_selection import train_test_split\n",
    "x_train, x_test, y_train, y_test = train_test_split(x, y, test_size=0.15, random_state=7)\n",
    "x_train.shape, x_test.shape"
   ]
  },
  {
   "cell_type": "code",
   "execution_count": 23,
   "metadata": {
    "colab": {
     "base_uri": "https://localhost:8080/"
    },
    "id": "U11pByq2E3-k",
    "outputId": "f57fdab6-ecde-4e57-b8da-84436301c1b1"
   },
   "outputs": [
    {
     "data": {
      "text/plain": [
       "((51000, 10), (9000, 10))"
      ]
     },
     "execution_count": 23,
     "metadata": {
      "tags": []
     },
     "output_type": "execute_result"
    }
   ],
   "source": [
    "y_train.shape, y_test.shape"
   ]
  },
  {
   "cell_type": "markdown",
   "metadata": {
    "id": "83r96JMPFMJy"
   },
   "source": [
    "# Neural Structure :"
   ]
  },
  {
   "cell_type": "code",
   "execution_count": 24,
   "metadata": {
    "id": "xlQF-sCgFDKz"
   },
   "outputs": [],
   "source": [
    "from keras.models import Sequential\n",
    "from keras.layers import Dense, Conv2D, MaxPool2D, Flatten, Dropout\n",
    "from keras.optimizers import RMSprop"
   ]
  },
  {
   "cell_type": "code",
   "execution_count": 136,
   "metadata": {
    "id": "nChI-SpAFlS8"
   },
   "outputs": [],
   "source": [
    "model = Sequential()\n",
    "model.add(Conv2D(filters = 32, kernel_size = (5,5),padding = 'Same', \n",
    "                 activation ='relu', input_shape = (28,28,1)))\n",
    "model.add(Conv2D(filters = 32, kernel_size = (5,5),padding = 'Same', \n",
    "                 activation ='relu'))\n",
    "model.add(MaxPool2D(pool_size=(2,2)))\n",
    "model.add(Dropout(0.25))\n",
    "\n",
    "\n",
    "model.add(Conv2D(filters = 64, kernel_size = (3,3),padding = 'Same', \n",
    "                 activation ='relu'))\n",
    "model.add(Conv2D(filters = 64, kernel_size = (3,3),padding = 'Same', \n",
    "                 activation ='relu'))\n",
    "model.add(MaxPool2D(pool_size=(2,2), strides=(2,2)))\n",
    "model.add(Dropout(0.25))\n",
    "\n",
    "\n",
    "model.add(Flatten())\n",
    "model.add(Dense(256, activation = \"relu\"))\n",
    "model.add(Dropout(0.5))\n",
    "model.add(Dense(10, activation = \"softmax\"))"
   ]
  },
  {
   "cell_type": "code",
   "execution_count": 137,
   "metadata": {
    "colab": {
     "base_uri": "https://localhost:8080/"
    },
    "id": "AF8bjv7GFwlk",
    "outputId": "61ebcefc-f5cb-4854-9fbd-d93c366a1ebc"
   },
   "outputs": [
    {
     "name": "stdout",
     "output_type": "stream",
     "text": [
      "Model: \"sequential_8\"\n",
      "_________________________________________________________________\n",
      "Layer (type)                 Output Shape              Param #   \n",
      "=================================================================\n",
      "conv2d_28 (Conv2D)           (None, 28, 28, 32)        832       \n",
      "_________________________________________________________________\n",
      "conv2d_29 (Conv2D)           (None, 28, 28, 32)        25632     \n",
      "_________________________________________________________________\n",
      "max_pooling2d_14 (MaxPooling (None, 14, 14, 32)        0         \n",
      "_________________________________________________________________\n",
      "dropout_22 (Dropout)         (None, 14, 14, 32)        0         \n",
      "_________________________________________________________________\n",
      "conv2d_30 (Conv2D)           (None, 14, 14, 64)        18496     \n",
      "_________________________________________________________________\n",
      "conv2d_31 (Conv2D)           (None, 14, 14, 64)        36928     \n",
      "_________________________________________________________________\n",
      "max_pooling2d_15 (MaxPooling (None, 7, 7, 64)          0         \n",
      "_________________________________________________________________\n",
      "dropout_23 (Dropout)         (None, 7, 7, 64)          0         \n",
      "_________________________________________________________________\n",
      "flatten_8 (Flatten)          (None, 3136)              0         \n",
      "_________________________________________________________________\n",
      "dense_16 (Dense)             (None, 256)               803072    \n",
      "_________________________________________________________________\n",
      "dropout_24 (Dropout)         (None, 256)               0         \n",
      "_________________________________________________________________\n",
      "dense_17 (Dense)             (None, 10)                2570      \n",
      "=================================================================\n",
      "Total params: 887,530\n",
      "Trainable params: 887,530\n",
      "Non-trainable params: 0\n",
      "_________________________________________________________________\n"
     ]
    }
   ],
   "source": [
    "model.summary()"
   ]
  },
  {
   "cell_type": "markdown",
   "metadata": {
    "id": "kRpA0mQpF5Ti"
   },
   "source": [
    "## Optimizer :"
   ]
  },
  {
   "cell_type": "code",
   "execution_count": 138,
   "metadata": {
    "id": "QyMSXQ7dFyku"
   },
   "outputs": [],
   "source": [
    "optimizer = RMSprop(learning_rate=0.001, rho=0.9, epsilon=1e-07, decay=0.0)"
   ]
  },
  {
   "cell_type": "markdown",
   "metadata": {
    "id": "mtAEtgCYGLcE"
   },
   "source": [
    "## Model Compiling :"
   ]
  },
  {
   "cell_type": "code",
   "execution_count": 139,
   "metadata": {
    "id": "RnAV_exqGJMT"
   },
   "outputs": [],
   "source": [
    "model.compile(optimizer=optimizer, loss='categorical_crossentropy', metrics=[\"accuracy\"])"
   ]
  },
  {
   "cell_type": "markdown",
   "metadata": {
    "id": "hkyVdS72GhlR"
   },
   "source": [
    "## Setting Learning Parameters :"
   ]
  },
  {
   "cell_type": "code",
   "execution_count": 140,
   "metadata": {
    "id": "FZ9YQiVAGcVw"
   },
   "outputs": [],
   "source": [
    "from keras.callbacks import ReduceLROnPlateau\n",
    "learning_rate_reduction = ReduceLROnPlateau(monitor='val_accuracy', patience=3, verbose=1, factor=0.5, min_lr=0.00001)"
   ]
  },
  {
   "cell_type": "markdown",
   "metadata": {
    "id": "VXsrF5i9Gnu5"
   },
   "source": [
    "## Data Augmentation to prevent Overfitting :"
   ]
  },
  {
   "cell_type": "code",
   "execution_count": 152,
   "metadata": {
    "id": "H-XdNnyjGmrs"
   },
   "outputs": [],
   "source": [
    "epochs = 30\n",
    "batch_size = 77"
   ]
  },
  {
   "cell_type": "code",
   "execution_count": 153,
   "metadata": {
    "id": "lDHQ36fYG0Of"
   },
   "outputs": [],
   "source": [
    "from keras.preprocessing.image import ImageDataGenerator\n",
    "datagen = ImageDataGenerator(\n",
    "        featurewise_center=False,  # set input mean to 0 over the dataset\n",
    "        samplewise_center=False,  # set each sample mean to 0\n",
    "        featurewise_std_normalization=False,  # divide inputs by std of the dataset\n",
    "        samplewise_std_normalization=False,  # divide each input by its std\n",
    "        zca_whitening=False,  # apply ZCA whitening\n",
    "        rotation_range=10,  # randomly rotate images in the range (degrees, 0 to 180)\n",
    "        zoom_range = 0.1, # Randomly zoom image \n",
    "        width_shift_range=0.1,  # randomly shift images horizontally (fraction of total width)\n",
    "        height_shift_range=0.1,  # randomly shift images vertically (fraction of total height)\n",
    "        horizontal_flip=False,  # randomly flip images\n",
    "        vertical_flip=False)  # randomly flip images\n"
   ]
  },
  {
   "cell_type": "code",
   "execution_count": 154,
   "metadata": {
    "id": "LRKsEICmG2GV"
   },
   "outputs": [],
   "source": [
    "datagen.fit(x_train)"
   ]
  },
  {
   "cell_type": "markdown",
   "metadata": {
    "id": "zvUapXQwG8Pn"
   },
   "source": [
    "## Model Fitting :"
   ]
  },
  {
   "cell_type": "code",
   "execution_count": 155,
   "metadata": {
    "colab": {
     "base_uri": "https://localhost:8080/"
    },
    "id": "9kXap19aG-jA",
    "outputId": "92212757-42e1-4191-cb7e-95800d39b4b0"
   },
   "outputs": [
    {
     "name": "stderr",
     "output_type": "stream",
     "text": [
      "/usr/local/lib/python3.7/dist-packages/keras/engine/training.py:1915: UserWarning: `Model.fit_generator` is deprecated and will be removed in a future version. Please use `Model.fit`, which supports generators.\n",
      "  warnings.warn('`Model.fit_generator` is deprecated and '\n"
     ]
    },
    {
     "name": "stdout",
     "output_type": "stream",
     "text": [
      "Epoch 1/30\n",
      "662/662 - 333s - loss: 0.4344 - accuracy: 0.8392 - val_loss: 0.2964 - val_accuracy: 0.8899\n",
      "Epoch 2/30\n",
      "662/662 - 330s - loss: 0.4076 - accuracy: 0.8512 - val_loss: 0.2875 - val_accuracy: 0.8966\n",
      "Epoch 3/30\n",
      "662/662 - 331s - loss: 0.3927 - accuracy: 0.8574 - val_loss: 0.2922 - val_accuracy: 0.8932\n",
      "Epoch 4/30\n",
      "662/662 - 334s - loss: 0.3882 - accuracy: 0.8605 - val_loss: 0.2641 - val_accuracy: 0.9038\n",
      "Epoch 5/30\n",
      "662/662 - 333s - loss: 0.3868 - accuracy: 0.8623 - val_loss: 0.2778 - val_accuracy: 0.9027\n",
      "Epoch 6/30\n",
      "662/662 - 339s - loss: 0.3855 - accuracy: 0.8626 - val_loss: 0.3408 - val_accuracy: 0.8692\n",
      "Epoch 7/30\n",
      "662/662 - 336s - loss: 0.3834 - accuracy: 0.8641 - val_loss: 0.3120 - val_accuracy: 0.8830\n",
      "\n",
      "Epoch 00007: ReduceLROnPlateau reducing learning rate to 0.0005000000237487257.\n",
      "Epoch 8/30\n",
      "662/662 - 333s - loss: 0.3488 - accuracy: 0.8750 - val_loss: 0.2506 - val_accuracy: 0.9081\n",
      "Epoch 9/30\n",
      "662/662 - 337s - loss: 0.3450 - accuracy: 0.8784 - val_loss: 0.2345 - val_accuracy: 0.9159\n",
      "Epoch 10/30\n",
      "662/662 - 338s - loss: 0.3411 - accuracy: 0.8794 - val_loss: 0.2450 - val_accuracy: 0.9142\n",
      "Epoch 11/30\n",
      "662/662 - 343s - loss: 0.3453 - accuracy: 0.8773 - val_loss: 0.2753 - val_accuracy: 0.8967\n",
      "Epoch 12/30\n",
      "662/662 - 338s - loss: 0.3405 - accuracy: 0.8795 - val_loss: 0.2385 - val_accuracy: 0.9164\n",
      "Epoch 13/30\n",
      "662/662 - 337s - loss: 0.3432 - accuracy: 0.8785 - val_loss: 0.2529 - val_accuracy: 0.9126\n",
      "Epoch 14/30\n",
      "662/662 - 331s - loss: 0.3420 - accuracy: 0.8795 - val_loss: 0.2579 - val_accuracy: 0.9081\n",
      "Epoch 15/30\n",
      "662/662 - 334s - loss: 0.3451 - accuracy: 0.8791 - val_loss: 0.2420 - val_accuracy: 0.9124\n",
      "\n",
      "Epoch 00015: ReduceLROnPlateau reducing learning rate to 0.0002500000118743628.\n",
      "Epoch 16/30\n",
      "662/662 - 332s - loss: 0.3178 - accuracy: 0.8882 - val_loss: 0.2408 - val_accuracy: 0.9147\n",
      "Epoch 17/30\n",
      "662/662 - 332s - loss: 0.3206 - accuracy: 0.8870 - val_loss: 0.2419 - val_accuracy: 0.9166\n",
      "Epoch 18/30\n",
      "662/662 - 332s - loss: 0.3155 - accuracy: 0.8884 - val_loss: 0.2309 - val_accuracy: 0.9172\n",
      "Epoch 19/30\n",
      "662/662 - 333s - loss: 0.3153 - accuracy: 0.8880 - val_loss: 0.2338 - val_accuracy: 0.9163\n",
      "Epoch 20/30\n",
      "662/662 - 334s - loss: 0.3147 - accuracy: 0.8891 - val_loss: 0.2346 - val_accuracy: 0.9171\n",
      "Epoch 21/30\n",
      "662/662 - 333s - loss: 0.3162 - accuracy: 0.8877 - val_loss: 0.2380 - val_accuracy: 0.9149\n",
      "\n",
      "Epoch 00021: ReduceLROnPlateau reducing learning rate to 0.0001250000059371814.\n",
      "Epoch 22/30\n",
      "662/662 - 332s - loss: 0.3040 - accuracy: 0.8922 - val_loss: 0.2344 - val_accuracy: 0.9153\n",
      "Epoch 23/30\n",
      "662/662 - 333s - loss: 0.3039 - accuracy: 0.8913 - val_loss: 0.2363 - val_accuracy: 0.9157\n",
      "Epoch 24/30\n",
      "662/662 - 337s - loss: 0.3022 - accuracy: 0.8937 - val_loss: 0.2366 - val_accuracy: 0.9171\n",
      "\n",
      "Epoch 00024: ReduceLROnPlateau reducing learning rate to 6.25000029685907e-05.\n",
      "Epoch 25/30\n",
      "662/662 - 335s - loss: 0.2968 - accuracy: 0.8937 - val_loss: 0.2295 - val_accuracy: 0.9181\n",
      "Epoch 26/30\n",
      "662/662 - 336s - loss: 0.2973 - accuracy: 0.8936 - val_loss: 0.2425 - val_accuracy: 0.9154\n",
      "Epoch 27/30\n",
      "662/662 - 355s - loss: 0.2945 - accuracy: 0.8964 - val_loss: 0.2332 - val_accuracy: 0.9172\n",
      "Epoch 28/30\n",
      "662/662 - 332s - loss: 0.2948 - accuracy: 0.8948 - val_loss: 0.2284 - val_accuracy: 0.9187\n",
      "Epoch 29/30\n",
      "662/662 - 330s - loss: 0.2958 - accuracy: 0.8959 - val_loss: 0.2305 - val_accuracy: 0.9178\n",
      "Epoch 30/30\n",
      "662/662 - 331s - loss: 0.2951 - accuracy: 0.8957 - val_loss: 0.2354 - val_accuracy: 0.9186\n"
     ]
    }
   ],
   "source": [
    "history = model.fit_generator(datagen.flow(x_train, y_train, batch_size=batch_size), epochs=epochs, validation_data=(x_test, y_test), verbose=2, steps_per_epoch=51000//batch_size, callbacks=[learning_rate_reduction])"
   ]
  },
  {
   "cell_type": "markdown",
   "metadata": {
    "id": "WJTyrefzbL5b"
   },
   "source": [
    "## Loss & Accuracy Validation Curve :"
   ]
  },
  {
   "cell_type": "code",
   "execution_count": 156,
   "metadata": {
    "colab": {
     "base_uri": "https://localhost:8080/",
     "height": 265
    },
    "id": "k8HIflF2HEbN",
    "outputId": "fdf0f22c-b459-4325-d0d5-f478da900c8e"
   },
   "outputs": [
    {
     "data": {
      "image/png": "[encoded data removed]",
      "text/plain": [
       "<Figure size 432x288 with 2 Axes>"
      ]
     },
     "metadata": {
      "needs_background": "light",
      "tags": []
     },
     "output_type": "display_data"
    }
   ],
   "source": [
    "figure, ax = plt.subplots(2,1)\n",
    "ax[0].plot(history.history['loss'], color='b', label='Training loss')\n",
    "ax[0].plot(history.history['val_loss'], color='r', label='Validation loss')\n",
    "legend = ax[0].legend(loc='best', shadow=True)\n",
    "\n",
    "ax[1].plot(history.history['accuracy'], color='b', label='Training Accuracy')\n",
    "ax[1].plot(history.history['val_accuracy'], color='r', label='Validation Accuracy')\n",
    "legend = ax[1].legend(loc='best', shadow=True)\n",
    "plt.show()"
   ]
  },
  {
   "cell_type": "markdown",
   "metadata": {
    "id": "-DA2IAdNbZ3V"
   },
   "source": [
    "## Prediction :"
   ]
  },
  {
   "cell_type": "code",
   "execution_count": 157,
   "metadata": {
    "id": "yiCmKcOGJFBp"
   },
   "outputs": [],
   "source": [
    "y_pred = model.predict(x_test)"
   ]
  },
  {
   "cell_type": "code",
   "execution_count": 158,
   "metadata": {
    "colab": {
     "base_uri": "https://localhost:8080/"
    },
    "id": "igAqjiD2bc5i",
    "outputId": "af09ec7f-3aca-4dd6-b5ee-9999db034a98"
   },
   "outputs": [
    {
     "data": {
      "text/plain": [
       "array([[4.0527297e-16, 3.3654486e-24, 4.6486025e-17, ..., 6.7676774e-17,\n",
       "        1.0000000e+00, 3.7794996e-19],\n",
       "       [6.0389089e-06, 2.7435345e-09, 3.9529945e-03, ..., 7.4134683e-12,\n",
       "        1.1200337e-07, 1.6945719e-08],\n",
       "       [2.5768804e-07, 3.9944797e-10, 7.2566507e-08, ..., 9.9424148e-01,\n",
       "        9.5990536e-06, 2.5576283e-04],\n",
       "       ...,\n",
       "       [4.7427812e-03, 1.3191299e-06, 2.2525860e-01, ..., 1.3492225e-10,\n",
       "        4.0486764e-05, 5.1480038e-07],\n",
       "       [7.8853816e-02, 1.2990929e-03, 1.2638280e-02, ..., 7.7622366e-07,\n",
       "        6.2377722e-04, 4.1915778e-06],\n",
       "       [1.4026016e-16, 2.4035064e-18, 2.6488394e-14, ..., 3.7453142e-18,\n",
       "        1.0655559e-13, 1.0326265e-13]], dtype=float32)"
      ]
     },
     "execution_count": 158,
     "metadata": {
      "tags": []
     },
     "output_type": "execute_result"
    }
   ],
   "source": [
    "y_pred"
   ]
  },
  {
   "cell_type": "code",
   "execution_count": 159,
   "metadata": {
    "id": "TAp5VFhAbg1m"
   },
   "outputs": [],
   "source": [
    "import numpy as np\n",
    "# Convert into prediction classes :\n",
    "y_pred_classes = np.argmax(y_pred, axis=1)"
   ]
  },
  {
   "cell_type": "code",
   "execution_count": 160,
   "metadata": {
    "colab": {
     "base_uri": "https://localhost:8080/"
    },
    "id": "Sn1ean_RblNG",
    "outputId": "aed5f3b6-2b75-4913-c304-aabad024cdd2"
   },
   "outputs": [
    {
     "data": {
      "text/plain": [
       "array([8, 4, 7, ..., 6, 3, 5])"
      ]
     },
     "execution_count": 160,
     "metadata": {
      "tags": []
     },
     "output_type": "execute_result"
    }
   ],
   "source": [
    "y_pred_classes"
   ]
  },
  {
   "cell_type": "code",
   "execution_count": 161,
   "metadata": {
    "colab": {
     "base_uri": "https://localhost:8080/"
    },
    "id": "sp98nKKebnkw",
    "outputId": "9ffdd592-796b-400c-8155-4cae5338f739"
   },
   "outputs": [
    {
     "data": {
      "text/plain": [
       "array([[0., 0., 0., ..., 0., 1., 0.],\n",
       "       [0., 0., 0., ..., 0., 0., 0.],\n",
       "       [0., 0., 0., ..., 1., 0., 0.],\n",
       "       ...,\n",
       "       [0., 0., 0., ..., 0., 0., 0.],\n",
       "       [0., 0., 0., ..., 0., 0., 0.],\n",
       "       [0., 0., 0., ..., 0., 0., 0.]], dtype=float32)"
      ]
     },
     "execution_count": 161,
     "metadata": {
      "tags": []
     },
     "output_type": "execute_result"
    }
   ],
   "source": [
    "y_test"
   ]
  },
  {
   "cell_type": "code",
   "execution_count": 162,
   "metadata": {
    "id": "UrInNkBCbtH_"
   },
   "outputs": [],
   "source": [
    "y_true = np.argmax(y_test, axis=1)"
   ]
  },
  {
   "cell_type": "code",
   "execution_count": 163,
   "metadata": {
    "colab": {
     "base_uri": "https://localhost:8080/"
    },
    "id": "MKjXlfIAb2nM",
    "outputId": "0e7f00c3-24d9-4e23-a34e-834a73b62537"
   },
   "outputs": [
    {
     "data": {
      "text/plain": [
       "array([8, 4, 7, ..., 6, 3, 5])"
      ]
     },
     "execution_count": 163,
     "metadata": {
      "tags": []
     },
     "output_type": "execute_result"
    }
   ],
   "source": [
    "y_true"
   ]
  },
  {
   "cell_type": "markdown",
   "metadata": {
    "id": "4MA3GqLQb67Q"
   },
   "source": [
    "## Accuracy :"
   ]
  },
  {
   "cell_type": "code",
   "execution_count": 164,
   "metadata": {
    "colab": {
     "base_uri": "https://localhost:8080/"
    },
    "id": "CteHQ7Ntb4Fy",
    "outputId": "95453476-66ac-48a8-8059-4e73702e85f0"
   },
   "outputs": [
    {
     "data": {
      "text/plain": [
       "0.9185555555555556"
      ]
     },
     "execution_count": 164,
     "metadata": {
      "tags": []
     },
     "output_type": "execute_result"
    }
   ],
   "source": [
    "np.mean(y_pred_classes == y_true)"
   ]
  },
  {
   "cell_type": "markdown",
   "metadata": {
    "id": "KeUK6NO4cFXf"
   },
   "source": [
    "## Confusion Matrix :"
   ]
  },
  {
   "cell_type": "code",
   "execution_count": 165,
   "metadata": {
    "id": "jzezQ4DhcBQ0"
   },
   "outputs": [],
   "source": [
    "from sklearn.metrics import confusion_matrix\n",
    "cm = confusion_matrix(y_true, y_pred_classes)"
   ]
  },
  {
   "cell_type": "markdown",
   "metadata": {
    "id": "YHHILqHHcOeT"
   },
   "source": [
    "## Plot Confusion Matrix :"
   ]
  },
  {
   "cell_type": "code",
   "execution_count": 166,
   "metadata": {
    "colab": {
     "base_uri": "https://localhost:8080/",
     "height": 328
    },
    "id": "0MKvyEtvcKbT",
    "outputId": "ff954e5e-d1b0-4aaf-8cac-e853ee193955"
   },
   "outputs": [
    {
     "data": {
      "text/plain": [
       "Text(0.5, 13.421126458070283, 'Predicted Label')"
      ]
     },
     "execution_count": 166,
     "metadata": {
      "tags": []
     },
     "output_type": "execute_result"
    },
    {
     "data": {
      "image/png": "[encoded data removed]",
      "text/plain": [
       "<Figure size 432x288 with 2 Axes>"
      ]
     },
     "metadata": {
      "needs_background": "light",
      "tags": []
     },
     "output_type": "display_data"
    }
   ],
   "source": [
    "import itertools\n",
    "plt.imshow(cm, cmap = plt.cm.Blues, interpolation='nearest')\n",
    "plt.title(\"Confusion Matrix\")\n",
    "plt.colorbar()\n",
    "tick_marks = np.arange(len(range(10)))\n",
    "plt.xticks(tick_marks, range(10), rotation=45)\n",
    "plt.yticks(tick_marks, range(10))\n",
    "thresh = cm.max()/2\n",
    "for i, j in itertools.product(range(cm.shape[0]), range(cm.shape[1])):\n",
    "  plt.text(j, i , cm[i,j], horizontalalignment=\"center\", color=\"white\" if cm[i,j]>thresh else \"black\")\n",
    "plt.tight_layout()\n",
    "plt.ylabel(\"True Label\")\n",
    "plt.xlabel(\"Predicted Label\")"
   ]
  },
  {
   "cell_type": "markdown",
   "metadata": {
    "id": "3WoQXyHGcXv9"
   },
   "source": [
    "## Error Calculation :"
   ]
  },
  {
   "cell_type": "code",
   "execution_count": 167,
   "metadata": {
    "colab": {
     "base_uri": "https://localhost:8080/"
    },
    "id": "7X3tpqlecSW7",
    "outputId": "74ac259e-335d-41f1-c9f0-fcd25f39b5c9"
   },
   "outputs": [
    {
     "data": {
      "text/plain": [
       "array([False, False, False, ..., False, False, False])"
      ]
     },
     "execution_count": 167,
     "metadata": {
      "tags": []
     },
     "output_type": "execute_result"
    }
   ],
   "source": [
    "error = (y_pred_classes - y_true != 0)\n",
    "error"
   ]
  },
  {
   "cell_type": "code",
   "execution_count": 168,
   "metadata": {
    "id": "AnFVLIyMcbXw"
   },
   "outputs": [],
   "source": [
    "# Assigning indexes of errors :\n",
    "y_pred_classes_error = y_pred_classes[error]\n",
    "y_pred_error = y_pred[error]\n",
    "y_true_error = y_true[error]\n",
    "x_val_error = x_test[error]"
   ]
  },
  {
   "cell_type": "code",
   "execution_count": 169,
   "metadata": {
    "colab": {
     "base_uri": "https://localhost:8080/"
    },
    "id": "UQcWmFa5cd3X",
    "outputId": "687453ec-1359-4f99-cb06-276fb82f3863"
   },
   "outputs": [
    {
     "data": {
      "text/plain": [
       "array([[7.0853132e-01, 6.7008023e-07, 5.7667191e-04, ..., 2.3310606e-10,\n",
       "        3.7942380e-05, 2.7676974e-09],\n",
       "       [4.8635092e-01, 2.3763303e-06, 2.3205457e-03, ..., 2.1112401e-09,\n",
       "        1.6014460e-04, 4.3328055e-07],\n",
       "       [9.9249445e-02, 4.9670767e-03, 3.1020066e-01, ..., 1.3192840e-05,\n",
       "        3.2424401e-02, 2.9585528e-04],\n",
       "       ...,\n",
       "       [1.9619202e-02, 2.9194489e-04, 4.3708719e-02, ..., 3.1309361e-07,\n",
       "        2.3794874e-04, 1.9559750e-06],\n",
       "       [8.4555177e-03, 1.2428523e-04, 2.4289644e-01, ..., 2.0326750e-07,\n",
       "        5.5637257e-04, 1.3024652e-05],\n",
       "       [9.2481576e-02, 1.0720131e-01, 5.8125570e-02, ..., 1.0806228e-03,\n",
       "        3.3148132e-02, 2.2270128e-03]], dtype=float32)"
      ]
     },
     "execution_count": 169,
     "metadata": {
      "tags": []
     },
     "output_type": "execute_result"
    }
   ],
   "source": [
    "y_pred_error"
   ]
  },
  {
   "cell_type": "markdown",
   "metadata": {
    "id": "HRDsT5PkctuY"
   },
   "source": [
    "## Probability of wrong Prediction :"
   ]
  },
  {
   "cell_type": "code",
   "execution_count": 170,
   "metadata": {
    "id": "iRag3c4tcq91"
   },
   "outputs": [],
   "source": [
    "y_pred_error_prob = np.max(y_pred_error, axis=1)"
   ]
  },
  {
   "cell_type": "code",
   "execution_count": 171,
   "metadata": {
    "colab": {
     "base_uri": "https://localhost:8080/"
    },
    "id": "IlP2dODkc9LD",
    "outputId": "99215704-a79f-4624-8588-165604764390"
   },
   "outputs": [
    {
     "data": {
      "text/plain": [
       "array([0.7085313 , 0.4898222 , 0.4319945 , 0.8144744 , 0.7267813 ,\n",
       "       0.8359559 , 0.402593  , 0.51142555, 0.8136632 , 0.5362927 ,\n",
       "       0.34204492, 0.5031464 , 0.5314051 , 0.5704314 , 0.69006324,\n",
       "       0.6134282 , 0.69429135, 0.5425367 , 0.9890069 , 0.5787259 ,\n",
       "       0.8074872 , 0.3615762 , 0.65794665, 0.51502275, 0.71801734,\n",
       "       0.8109682 , 0.48921672, 0.29247165, 0.48140132, 0.45145926,\n",
       "       0.5126164 , 0.6228059 , 0.6339508 , 0.5432145 , 0.9985153 ,\n",
       "       0.5800326 , 0.7464842 , 0.56279933, 0.5380192 , 0.39503765,\n",
       "       0.52762574, 0.65755427, 0.4312009 , 0.84556514, 0.38263142,\n",
       "       0.67815274, 0.8035054 , 0.7032027 , 0.33382282, 0.5324251 ,\n",
       "       0.70299095, 0.45875782, 0.5950688 , 0.8864414 , 0.6439903 ,\n",
       "       0.43879476, 0.5467141 , 0.75978965, 0.79585713, 0.77470684,\n",
       "       0.41888094, 0.9111392 , 0.43255258, 0.6817134 , 0.48187068,\n",
       "       0.7069222 , 0.6662652 , 0.6867736 , 0.409984  , 0.53186655,\n",
       "       0.55427784, 0.8697753 , 0.83421445, 0.55913246, 0.8480417 ,\n",
       "       0.5398348 , 0.4267472 , 0.7935134 , 0.9744357 , 0.69304484,\n",
       "       0.5056417 , 0.64168584, 0.48496398, 0.50411475, 0.49513915,\n",
       "       0.5860112 , 0.49814096, 0.5106064 , 0.5792185 , 0.7161964 ,\n",
       "       0.8727492 , 0.2940224 , 0.756063  , 0.8474256 , 0.91352093,\n",
       "       0.61279196, 0.55942863, 0.65175676, 0.4989637 , 0.36562607,\n",
       "       0.50381374, 0.643373  , 0.4196325 , 0.6914683 , 0.97591126,\n",
       "       0.62662804, 0.71895224, 0.4761993 , 0.60692495, 0.88638824,\n",
       "       0.38404897, 0.4529155 , 0.5800725 , 0.4380039 , 0.8583302 ,\n",
       "       0.9190515 , 0.3266458 , 0.7231318 , 0.40311408, 0.632201  ,\n",
       "       0.511656  , 0.5654945 , 0.20392239, 0.37297386, 0.68655634,\n",
       "       0.49017093, 0.79375803, 0.5216633 , 0.50469685, 0.94816935,\n",
       "       0.46775064, 0.7590076 , 0.5054759 , 0.7093415 , 0.44787738,\n",
       "       0.48451608, 0.45489135, 0.647443  , 0.5421484 , 0.5839191 ,\n",
       "       0.43210745, 0.47278255, 0.64016443, 0.41513804, 0.5430881 ,\n",
       "       0.45305926, 0.9419034 , 0.6155001 , 0.5363615 , 0.64502144,\n",
       "       0.398338  , 0.5289163 , 0.61780703, 0.73219717, 0.3924201 ,\n",
       "       0.49563116, 0.47082448, 0.82011527, 0.9280914 , 0.66796696,\n",
       "       0.6199897 , 0.5358231 , 0.6299488 , 0.51966935, 0.4996818 ,\n",
       "       0.48409152, 0.547917  , 0.63487643, 0.67707163, 0.49884313,\n",
       "       0.41452816, 0.7644611 , 0.50632757, 0.39709514, 0.524449  ,\n",
       "       0.6056333 , 0.8177017 , 0.6035396 , 0.9013699 , 0.6237109 ,\n",
       "       0.37940213, 0.7107343 , 0.5153233 , 0.55651516, 0.63549936,\n",
       "       0.599036  , 0.5992467 , 0.5334277 , 0.79486704, 0.50864667,\n",
       "       0.7182549 , 0.5997715 , 0.72345835, 0.4925895 , 0.37766263,\n",
       "       0.4889138 , 0.7574768 , 0.74135035, 0.3344473 , 0.35259172,\n",
       "       0.8379984 , 0.5121809 , 0.81002635, 0.5038387 , 0.7485576 ,\n",
       "       0.6264371 , 0.78766227, 0.614555  , 0.38430846, 0.66356105,\n",
       "       0.98636836, 0.8830894 , 0.49062884, 0.66256374, 0.9565245 ,\n",
       "       0.40177566, 0.5230315 , 0.64807296, 0.9442739 , 0.9822872 ,\n",
       "       0.52264065, 0.35251144, 0.54569817, 0.47160855, 0.5752153 ,\n",
       "       0.5174754 , 0.5181504 , 0.5802188 , 0.36639604, 0.8009779 ,\n",
       "       0.34476227, 0.7617746 , 0.58228934, 0.66843474, 0.6939961 ,\n",
       "       0.46527115, 0.5973975 , 0.5636292 , 0.52748454, 0.53207386,\n",
       "       0.5342956 , 0.5656571 , 0.7115612 , 0.7599096 , 0.42190462,\n",
       "       0.40858585, 0.63897705, 0.5231441 , 0.75329417, 0.29294318,\n",
       "       0.36179435, 0.69389725, 0.75891644, 0.6834507 , 0.44577712,\n",
       "       0.2329549 , 0.48713812, 0.79010123, 0.408678  , 0.41493568,\n",
       "       0.9099035 , 0.8583656 , 0.53935045, 0.43447453, 0.98166543,\n",
       "       0.8028986 , 0.75047463, 0.50327986, 0.6313944 , 0.56781054,\n",
       "       0.52771074, 0.8167735 , 0.44793385, 0.5022572 , 0.88154143,\n",
       "       0.5637752 , 0.5896229 , 0.6076649 , 0.5762795 , 0.519894  ,\n",
       "       0.63533646, 0.7002208 , 0.584573  , 0.4552968 , 0.30743742,\n",
       "       0.5469242 , 0.4797581 , 0.42339888, 0.57593673, 0.60254085,\n",
       "       0.9615506 , 0.95788765, 0.44338015, 0.46137705, 0.6339041 ,\n",
       "       0.81743014, 0.50646806, 0.50355035, 0.25080642, 0.5559424 ,\n",
       "       0.85203654, 0.5616221 , 0.5798855 , 0.46607766, 0.8234137 ,\n",
       "       0.557026  , 0.49601296, 0.9042533 , 0.4857267 , 0.8010267 ,\n",
       "       0.49270558, 0.63983077, 0.70570403, 0.9999949 , 0.8160741 ,\n",
       "       0.55136377, 0.69938004, 0.54681724, 0.84667057, 0.58395886,\n",
       "       0.6890189 , 0.5199015 , 0.539865  , 0.43986398, 0.91812843,\n",
       "       0.9485786 , 0.32857218, 0.37224478, 0.6672459 , 0.6311408 ,\n",
       "       0.34532288, 0.74355835, 0.5158512 , 0.5091449 , 0.5154991 ,\n",
       "       0.728775  , 0.74234927, 0.6068894 , 0.56857914, 0.6634451 ,\n",
       "       0.51042324, 0.5183649 , 0.5396873 , 0.7731703 , 0.57291305,\n",
       "       0.64871746, 0.66218126, 0.35125268, 0.87640405, 0.4081366 ,\n",
       "       0.7947139 , 0.38588226, 0.5600136 , 0.42228314, 0.7795837 ,\n",
       "       0.5162511 , 0.9497048 , 0.5916472 , 0.38192618, 0.6610323 ,\n",
       "       0.83078814, 0.6465628 , 0.3760496 , 0.43229446, 0.64103013,\n",
       "       0.5816664 , 0.45626912, 0.74416333, 0.38222528, 0.64591634,\n",
       "       0.57852143, 0.64306927, 0.5078931 , 0.32412046, 0.52013373,\n",
       "       0.909467  , 0.74099565, 0.61035717, 0.4324205 , 0.5553852 ,\n",
       "       0.62333   , 0.5937464 , 0.8206222 , 0.36704302, 0.71153283,\n",
       "       0.53367645, 0.81733304, 0.52508813, 0.36643648, 0.84858733,\n",
       "       0.37195757, 0.5608932 , 0.4211793 , 0.5691202 , 0.3848281 ,\n",
       "       0.58914393, 0.8838312 , 0.5536864 , 0.68642753, 0.93268704,\n",
       "       0.5743437 , 0.88258773, 0.5239133 , 0.9301497 , 0.4592858 ,\n",
       "       0.69859946, 0.5546547 , 0.5779182 , 0.616387  , 0.31123573,\n",
       "       0.48407075, 0.6225906 , 0.30326292, 0.6794242 , 0.69091314,\n",
       "       0.7034893 , 0.7479803 , 0.2717789 , 0.54443264, 0.71292955,\n",
       "       0.9081929 , 0.41025424, 0.5807585 , 0.5976167 , 0.9199129 ,\n",
       "       0.633529  , 0.53480935, 0.38837072, 0.4468039 , 0.5130355 ,\n",
       "       0.7248924 , 0.60846424, 0.9971764 , 0.4020605 , 0.33690348,\n",
       "       0.23967673, 0.54246354, 0.4439255 , 0.42865336, 0.81143725,\n",
       "       0.3160508 , 0.41814816, 0.55354863, 0.843055  , 0.4100885 ,\n",
       "       0.432645  , 0.6887172 , 0.70127463, 0.44036463, 0.24697992,\n",
       "       0.927949  , 0.72367525, 0.40549767, 0.4849859 , 0.9370873 ,\n",
       "       0.60833776, 0.5139165 , 0.713016  , 0.54480183, 0.6220601 ,\n",
       "       0.38354278, 0.5071992 , 0.7187078 , 0.47971267, 0.37994993,\n",
       "       0.39824155, 0.53134346, 0.38461733, 0.6382403 , 0.6649404 ,\n",
       "       0.707011  , 0.6534172 , 0.54443353, 0.4881582 , 0.37248358,\n",
       "       0.6471682 , 0.84199506, 0.4722229 , 0.63793826, 0.5304134 ,\n",
       "       0.56034863, 0.5379573 , 0.5433241 , 0.80375594, 0.6854239 ,\n",
       "       0.4771557 , 0.719174  , 0.5084776 , 0.53414744, 0.4288298 ,\n",
       "       0.46628216, 0.9260366 , 0.34746027, 0.31338727, 0.60637194,\n",
       "       0.51526505, 0.8451791 , 0.28388035, 0.8446217 , 0.8767461 ,\n",
       "       0.53688043, 0.48784086, 0.5886509 , 0.6243937 , 0.6583435 ,\n",
       "       0.4346653 , 0.90500313, 0.8695485 , 0.434435  , 0.441115  ,\n",
       "       0.3578202 , 0.3617187 , 0.6219397 , 0.5634902 , 0.79604816,\n",
       "       0.6170713 , 0.5008538 , 0.50481415, 0.7419435 , 0.5981648 ,\n",
       "       0.32412037, 0.6061472 , 0.5798014 , 0.6659513 , 0.9672684 ,\n",
       "       0.6195541 , 0.5917736 , 0.549547  , 0.590373  , 0.5304322 ,\n",
       "       0.35928592, 0.5629916 , 0.6988866 , 0.9988243 , 0.5254257 ,\n",
       "       0.6260176 , 0.80161893, 0.8361838 , 0.67531776, 0.6542109 ,\n",
       "       0.53163326, 0.48426563, 0.832655  , 0.8656415 , 0.7688452 ,\n",
       "       0.55177385, 0.42477733, 0.46103594, 0.5463661 , 0.42368183,\n",
       "       0.76952153, 0.5913107 , 0.72844505, 0.43776193, 0.327598  ,\n",
       "       0.6246427 , 0.901685  , 0.7998434 , 0.6046553 , 0.5343788 ,\n",
       "       0.9818362 , 0.98885906, 0.5489598 , 0.29146677, 0.48091787,\n",
       "       0.6769712 , 0.4226862 , 0.6047426 , 0.42234042, 0.8128388 ,\n",
       "       0.65536904, 0.42066574, 0.5540551 , 0.5527507 , 0.938533  ,\n",
       "       0.36950842, 0.8272449 , 0.8321198 , 0.7181219 , 0.507551  ,\n",
       "       0.86933523, 0.27009454, 0.51731557, 0.9648644 , 0.4196167 ,\n",
       "       0.5884107 , 0.30831605, 0.5587275 , 0.32858506, 0.55985934,\n",
       "       0.5028958 , 0.7928899 , 0.5678957 , 0.5026154 , 0.59290135,\n",
       "       0.65166456, 0.6097734 , 0.99962294, 0.6242186 , 0.85053825,\n",
       "       0.6675245 , 0.6502575 , 0.44350094, 0.52113104, 0.7972548 ,\n",
       "       0.926535  , 0.30573043, 0.7126952 , 0.52401674, 0.65470535,\n",
       "       0.41002485, 0.8926964 , 0.36324808, 0.48290196, 0.61793286,\n",
       "       0.6271331 , 0.43932727, 0.54969823, 0.52047145, 0.5098367 ,\n",
       "       0.5563775 , 0.50599474, 0.7500854 , 0.87454695, 0.5349269 ,\n",
       "       0.40821415, 0.4455273 , 0.57522494, 0.8439485 , 0.4248296 ,\n",
       "       0.4822003 , 0.94164336, 0.51641244, 0.49165595, 0.49132138,\n",
       "       0.5447371 , 0.5132725 , 0.46723124, 0.5051396 , 0.5339521 ,\n",
       "       0.8367491 , 0.68535465, 0.5520331 , 0.47993076, 0.7058612 ,\n",
       "       0.54944944, 0.6127351 , 0.47335163, 0.47034195, 0.56415987,\n",
       "       0.6117315 , 0.7383981 , 0.7952067 , 0.5970619 , 0.47253826,\n",
       "       0.55426294, 0.80821514, 0.2734971 , 0.52296454, 0.38163677,\n",
       "       0.53971475, 0.5957599 , 0.52114695, 0.6526493 , 0.50652015,\n",
       "       0.47634572, 0.3489204 , 0.48600498, 0.59242415, 0.79948723,\n",
       "       0.88670015, 0.6537691 , 0.8488901 , 0.52805936, 0.3810322 ,\n",
       "       0.73058474, 0.76540124, 0.92013794, 0.49270782, 0.6384652 ,\n",
       "       0.924672  , 0.5343385 , 0.57258695, 0.772222  , 0.58643407,\n",
       "       0.51084834, 0.34568655, 0.44015917, 0.6703204 , 0.55115676,\n",
       "       0.56844115, 0.40982088, 0.5120005 , 0.5484381 , 0.47268924,\n",
       "       0.5238228 , 0.9983197 , 0.64044017, 0.56777173, 0.58326256,\n",
       "       0.4916686 , 0.46544152, 0.5958876 , 0.840133  , 0.7546875 ,\n",
       "       0.81170636, 0.7541898 , 0.37432474, 0.48803407, 0.56791127,\n",
       "       0.5143035 , 0.7505484 , 0.5857447 , 0.5758506 , 0.4572507 ,\n",
       "       0.75712836, 0.6066772 , 0.63298476, 0.5136085 , 0.45925573,\n",
       "       0.6401565 , 0.54333794, 0.77436167, 0.59111744, 0.5424167 ,\n",
       "       0.5889852 , 0.3262601 , 0.40086466, 0.5560252 , 0.2575788 ,\n",
       "       0.4912655 , 0.45107847, 0.36442792], dtype=float32)"
      ]
     },
     "execution_count": 171,
     "metadata": {
      "tags": []
     },
     "output_type": "execute_result"
    }
   ],
   "source": [
    "y_pred_error_prob"
   ]
  },
  {
   "cell_type": "markdown",
   "metadata": {
    "id": "TRIlhy7Sdx6L"
   },
   "source": [
    "## Probability of True Class in errors :"
   ]
  },
  {
   "cell_type": "code",
   "execution_count": 172,
   "metadata": {
    "id": "y9b_b7G7c_Eq"
   },
   "outputs": [],
   "source": [
    "true_prob_error = np.diagonal(np.take(y_pred_error, y_true_error, axis=1))"
   ]
  },
  {
   "cell_type": "code",
   "execution_count": 173,
   "metadata": {
    "colab": {
     "base_uri": "https://localhost:8080/"
    },
    "id": "cRtwFK5sejo7",
    "outputId": "a567e3e0-b8a9-4589-e0ef-08a9a7aac05d"
   },
   "outputs": [
    {
     "data": {
      "text/plain": [
       "array([2.88266391e-01, 4.86350924e-01, 3.10200661e-01, 1.73449710e-01,\n",
       "       1.23054832e-01, 1.60972655e-01, 3.96878064e-01, 2.76107132e-01,\n",
       "       1.51140422e-01, 4.42148685e-01, 2.07388088e-01, 3.84010553e-01,\n",
       "       4.51734245e-01, 3.39871675e-01, 2.46528592e-02, 2.32331023e-01,\n",
       "       1.42116666e-01, 4.38568890e-01, 9.35208611e-03, 1.22088701e-01,\n",
       "       1.21083543e-01, 1.24322802e-01, 3.09789211e-01, 3.15963686e-01,\n",
       "       2.32786313e-01, 1.30591229e-01, 2.47272730e-01, 4.95545305e-02,\n",
       "       3.46621066e-01, 4.11305934e-01, 4.01246130e-01, 2.65567988e-01,\n",
       "       3.64041686e-01, 2.57274926e-01, 1.17746962e-03, 4.10495609e-01,\n",
       "       2.01294214e-01, 1.39705762e-01, 3.94331872e-01, 3.38832736e-01,\n",
       "       4.64179277e-01, 3.36851507e-01, 2.99445719e-01, 1.45849094e-01,\n",
       "       1.67373300e-01, 3.06909621e-01, 1.74208865e-01, 2.90520072e-01,\n",
       "       2.47738853e-01, 4.66647685e-01, 2.92361468e-01, 2.55188257e-01,\n",
       "       1.61883205e-01, 4.22268026e-02, 3.51989657e-01, 3.60319108e-01,\n",
       "       4.30496067e-01, 3.67828496e-02, 1.36455372e-01, 2.09152684e-01,\n",
       "       2.95326620e-01, 2.73580961e-02, 2.51452565e-01, 1.67601988e-01,\n",
       "       4.80474979e-01, 9.62830707e-02, 3.29555660e-01, 3.12255859e-01,\n",
       "       4.32283469e-02, 3.97137791e-01, 1.14597812e-01, 1.04633845e-01,\n",
       "       1.43894941e-01, 3.50536168e-01, 1.48692787e-01, 3.31537098e-01,\n",
       "       4.24520165e-01, 5.03846109e-02, 2.10726783e-02, 3.05329114e-01,\n",
       "       3.98288190e-01, 3.35072428e-01, 4.72030759e-01, 3.88477176e-01,\n",
       "       4.78197873e-01, 4.09965754e-01, 2.88011193e-01, 1.47346631e-01,\n",
       "       2.53314823e-01, 2.32679084e-01, 1.22747019e-01, 2.70612419e-01,\n",
       "       1.66363522e-01, 8.98606237e-03, 8.54088292e-02, 2.97657937e-01,\n",
       "       2.32257128e-01, 9.85803977e-02, 2.80894220e-01, 2.27314204e-01,\n",
       "       2.72369236e-01, 6.26170123e-03, 4.09376979e-01, 2.07643658e-02,\n",
       "       1.77671574e-02, 3.24553043e-01, 7.27475733e-02, 2.57497430e-01,\n",
       "       1.15073547e-01, 7.17310980e-02, 2.99946189e-01, 4.39595819e-01,\n",
       "       2.66123265e-01, 4.26663637e-01, 1.27844229e-01, 6.81935996e-02,\n",
       "       2.03146264e-01, 3.48523483e-02, 2.05757648e-01, 3.64162266e-01,\n",
       "       3.70104760e-01, 4.25874025e-01, 1.72540396e-01, 2.65373111e-01,\n",
       "       2.28505954e-01, 3.48398298e-01, 2.05472097e-01, 4.68077123e-01,\n",
       "       2.66388029e-01, 4.11577448e-02, 4.43892032e-01, 1.21509500e-01,\n",
       "       2.89017975e-01, 2.70277768e-01, 1.84165493e-01, 2.24979758e-01,\n",
       "       2.10465282e-01, 3.37311834e-01, 4.47024405e-01, 3.85730356e-01,\n",
       "       3.77822310e-01, 9.52774063e-02, 3.34618300e-01, 4.10091847e-01,\n",
       "       2.58105397e-01, 3.39061946e-01, 1.85697433e-02, 3.80374372e-01,\n",
       "       7.52748325e-02, 2.19891593e-01, 3.40141475e-01, 3.99286538e-01,\n",
       "       3.79082769e-01, 2.60621578e-01, 3.51534456e-01, 4.85740155e-01,\n",
       "       1.38161272e-01, 1.64054573e-01, 6.91681132e-02, 1.25287220e-01,\n",
       "       1.71422631e-01, 4.60543841e-01, 2.73399264e-01, 8.67583379e-02,\n",
       "       4.44222361e-01, 3.90327722e-01, 4.16414365e-02, 3.63914460e-01,\n",
       "       3.19954187e-01, 4.15737182e-01, 3.72163594e-01, 1.46060199e-01,\n",
       "       4.70411509e-01, 2.05721349e-01, 4.62911457e-01, 3.83505136e-01,\n",
       "       1.79161251e-01, 3.09738368e-01, 6.29611760e-02, 2.84444660e-01,\n",
       "       2.91844398e-01, 7.11029246e-02, 4.45692331e-01, 2.88206220e-01,\n",
       "       3.54457587e-01, 1.74800426e-01, 3.49966198e-01, 1.65206883e-02,\n",
       "       1.33541003e-01, 3.04892719e-01, 1.83181167e-01, 1.24388985e-01,\n",
       "       2.66363949e-01, 1.73867509e-01, 2.42610887e-01, 4.82050091e-01,\n",
       "       1.76795080e-01, 2.50914425e-01, 1.42337784e-01, 1.88544884e-01,\n",
       "       1.43308535e-01, 4.44179118e-01, 1.70740813e-01, 4.81048793e-01,\n",
       "       9.87959877e-02, 2.85747319e-01, 1.69817507e-01, 2.74091929e-01,\n",
       "       2.22103968e-01, 3.28627914e-01, 1.08253285e-02, 7.93833584e-02,\n",
       "       2.64126331e-01, 3.31610709e-01, 4.11265828e-02, 2.36533165e-01,\n",
       "       2.92286873e-01, 1.33949891e-01, 5.12400605e-02, 1.17392289e-02,\n",
       "       3.00927669e-01, 1.31067798e-01, 3.51914883e-01, 5.04056849e-02,\n",
       "       3.63349080e-01, 3.33528548e-01, 3.02405298e-01, 9.79995951e-02,\n",
       "       1.18676968e-01, 1.13861643e-01, 3.32128197e-01, 1.89213119e-02,\n",
       "       3.79059315e-01, 3.23918670e-01, 1.85497373e-01, 4.33726639e-01,\n",
       "       3.55307639e-01, 2.63010502e-01, 3.57474953e-01, 4.29309964e-01,\n",
       "       4.57305431e-01, 3.87972623e-01, 2.59433120e-01, 2.21553341e-01,\n",
       "       3.91893387e-01, 4.03452188e-01, 3.37257922e-01, 2.08444715e-01,\n",
       "       2.41306156e-01, 2.08390146e-01, 2.35452369e-01, 3.05689991e-01,\n",
       "       1.52774036e-01, 3.13761294e-01, 2.55215377e-01, 1.54284120e-01,\n",
       "       1.30153283e-01, 2.01007575e-01, 2.09615469e-01, 3.58226866e-01,\n",
       "       8.89007673e-02, 1.40467390e-01, 2.14249212e-02, 4.22058612e-01,\n",
       "       1.01851206e-02, 1.56468734e-01, 4.58481796e-02, 3.49512726e-01,\n",
       "       1.33047193e-01, 3.21119815e-01, 4.44741607e-01, 4.85803075e-02,\n",
       "       3.38636905e-01, 4.54904765e-01, 1.12111598e-01, 3.37348789e-01,\n",
       "       5.22337575e-03, 3.83702099e-01, 1.88357309e-01, 4.74599570e-01,\n",
       "       3.19458753e-01, 7.09093958e-02, 3.74296844e-01, 3.88203979e-01,\n",
       "       2.76474714e-01, 4.39365625e-01, 4.78795916e-01, 3.85558158e-01,\n",
       "       3.41536790e-01, 1.87208831e-01, 4.17624554e-03, 4.02240530e-02,\n",
       "       2.62608320e-01, 3.27633858e-01, 2.85448790e-01, 1.76366910e-01,\n",
       "       4.17772621e-01, 4.35986400e-01, 1.78024262e-01, 4.13472474e-01,\n",
       "       6.08514324e-02, 3.09065789e-01, 2.38572821e-01, 4.60222155e-01,\n",
       "       1.66566297e-01, 3.88095528e-01, 2.47685447e-01, 7.23329782e-02,\n",
       "       2.71468729e-01, 1.94350109e-01, 2.52773076e-01, 1.16638109e-01,\n",
       "       2.92983651e-01, 5.07579716e-06, 1.36406034e-01, 4.40390259e-01,\n",
       "       3.00003439e-01, 4.48904604e-01, 1.52952567e-01, 4.14691091e-01,\n",
       "       2.67980397e-01, 4.20621961e-01, 4.43215132e-01, 2.85312057e-01,\n",
       "       3.56419459e-02, 1.35291659e-03, 2.93664008e-01, 2.62114912e-01,\n",
       "       2.80212224e-01, 1.84027255e-01, 2.43002832e-01, 1.63906172e-01,\n",
       "       4.54505354e-01, 4.18028474e-01, 3.82215530e-01, 2.44680405e-01,\n",
       "       2.55600601e-01, 3.66393596e-01, 9.58271027e-02, 3.16087991e-01,\n",
       "       4.69327837e-01, 3.86265904e-01, 3.40606779e-01, 1.40302569e-01,\n",
       "       3.73295516e-01, 1.04371510e-01, 5.18737622e-02, 2.15649024e-01,\n",
       "       8.81914198e-02, 4.01839018e-01, 1.86085507e-01, 3.13593596e-01,\n",
       "       1.10447139e-01, 2.51002550e-01, 6.16028942e-02, 4.51002657e-01,\n",
       "       1.93454511e-03, 3.85121167e-01, 3.24861705e-01, 2.54394323e-01,\n",
       "       1.57377154e-01, 9.70484987e-02, 1.74721494e-01, 2.14007854e-01,\n",
       "       2.09488943e-01, 3.49095374e-01, 4.42079335e-01, 2.54966557e-01,\n",
       "       3.68065745e-01, 1.41811043e-01, 2.12846592e-01, 2.91079223e-01,\n",
       "       1.50881276e-01, 2.50875771e-01, 2.08332743e-02, 7.35183880e-02,\n",
       "       2.55600899e-01, 2.08418503e-01, 9.67717692e-02, 1.39894113e-01,\n",
       "       3.74074489e-01, 3.95947099e-01, 1.78237215e-01, 2.77021945e-01,\n",
       "       7.35081136e-02, 3.13434184e-01, 1.72407433e-01, 4.62425619e-01,\n",
       "       3.14140290e-01, 4.32337485e-02, 3.55985373e-01, 2.81461358e-01,\n",
       "       3.71593654e-01, 3.03883284e-01, 1.64080411e-01, 3.86661321e-01,\n",
       "       5.01272231e-02, 3.42228472e-01, 2.90712833e-01, 6.12741299e-02,\n",
       "       3.60142171e-01, 6.80265874e-02, 2.47112811e-01, 6.93041906e-02,\n",
       "       1.15098514e-01, 2.95120001e-01, 4.44053888e-01, 3.12674612e-01,\n",
       "       3.07527006e-01, 1.68721914e-01, 3.27018738e-01, 1.47287166e-02,\n",
       "       2.43577406e-01, 1.34594589e-02, 9.11217034e-02, 2.62494832e-01,\n",
       "       7.07363859e-02, 2.46903583e-01, 4.54149514e-01, 2.36754194e-01,\n",
       "       9.14828032e-02, 1.39896870e-01, 4.03290957e-01, 5.15058264e-02,\n",
       "       6.08249120e-02, 9.04410705e-02, 1.34291545e-01, 2.13482887e-01,\n",
       "       4.31097865e-01, 4.09881741e-01, 2.60852367e-01, 2.57837713e-01,\n",
       "       2.65841419e-03, 2.24437699e-01, 2.79121041e-01, 1.98812485e-01,\n",
       "       4.51445967e-01, 3.30193877e-01, 3.66678298e-01, 1.52174622e-01,\n",
       "       2.31777415e-01, 1.69994801e-01, 1.78696141e-02, 1.43992245e-01,\n",
       "       3.20052564e-01, 1.71460733e-01, 1.10052094e-01, 3.91030647e-02,\n",
       "       1.55626312e-01, 2.10871235e-01, 1.26052862e-02, 2.62842983e-01,\n",
       "       1.69906855e-01, 4.63721067e-01, 2.25698017e-02, 3.37837249e-01,\n",
       "       3.03811997e-01, 2.35519290e-01, 4.51846451e-01, 2.87645221e-01,\n",
       "       3.58557492e-01, 4.75712925e-01, 2.77602971e-01, 1.34300306e-01,\n",
       "       3.67343038e-01, 3.81777495e-01, 1.22464292e-01, 2.27306515e-01,\n",
       "       1.58499360e-01, 2.77258337e-01, 9.83510837e-02, 2.44631752e-01,\n",
       "       4.51472044e-01, 4.01921034e-01, 3.03524911e-01, 3.44080061e-01,\n",
       "       1.17810249e-01, 2.87906349e-01, 3.62022877e-01, 2.13354453e-02,\n",
       "       3.55687469e-01, 1.84115171e-01, 3.76674265e-01, 1.53645873e-01,\n",
       "       2.75896162e-01, 3.09400648e-01, 2.55238086e-01, 4.83540475e-01,\n",
       "       3.47945333e-01, 2.46983334e-01, 1.97943613e-01, 7.33785853e-02,\n",
       "       2.78891951e-01, 1.40434220e-01, 3.90702516e-01, 3.86615455e-01,\n",
       "       1.39181182e-01, 6.25773892e-02, 1.46705806e-01, 1.19348213e-01,\n",
       "       4.57577765e-01, 3.25027317e-01, 1.16675571e-02, 3.63553315e-01,\n",
       "       3.15630198e-01, 2.94222444e-01, 9.49441046e-02, 6.68747798e-02,\n",
       "       4.13265049e-01, 3.67897987e-01, 1.00624412e-02, 2.62182117e-01,\n",
       "       3.22560370e-01, 2.19985396e-01, 1.86661169e-01, 2.77530879e-01,\n",
       "       3.37382522e-03, 2.42620587e-01, 2.40451932e-01, 3.98607373e-01,\n",
       "       2.82662541e-01, 2.75733203e-01, 4.19324487e-01, 2.72299856e-01,\n",
       "       2.98929065e-02, 1.95077211e-01, 3.82134438e-01, 3.60425204e-01,\n",
       "       3.73711497e-01, 4.56128389e-01, 2.09283143e-01, 4.29217100e-01,\n",
       "       9.82497036e-02, 6.89699606e-04, 3.26349109e-01, 3.09956253e-01,\n",
       "       1.66624054e-01, 2.72517966e-04, 2.07011268e-01, 3.27917188e-01,\n",
       "       4.53607649e-01, 4.54834551e-01, 1.66934595e-01, 1.33423805e-01,\n",
       "       2.14588314e-01, 4.41563964e-01, 2.32188776e-01, 1.92035660e-01,\n",
       "       1.83130801e-02, 2.01805234e-01, 2.00662136e-01, 5.42292278e-03,\n",
       "       2.08178461e-01, 2.03659549e-01, 1.99011609e-01, 3.06531250e-01,\n",
       "       4.66770865e-02, 1.99790448e-01, 4.26848717e-02, 1.50738910e-01,\n",
       "       1.80389658e-02, 1.08325984e-02, 4.46949542e-01, 2.33192399e-01,\n",
       "       4.45537984e-01, 2.86490351e-01, 2.48397380e-01, 3.42121214e-01,\n",
       "       2.72321433e-01, 1.14643700e-01, 3.26510221e-01, 3.96511406e-01,\n",
       "       4.37582910e-01, 4.47047979e-01, 4.82721403e-02, 3.67297113e-01,\n",
       "       1.67362303e-01, 1.67756751e-01, 2.81275392e-01, 2.33471002e-02,\n",
       "       8.11889395e-02, 1.46717742e-01, 2.13649064e-01, 4.23896033e-03,\n",
       "       3.23077649e-01, 1.41097620e-01, 2.09798247e-01, 1.81845903e-01,\n",
       "       2.95808554e-01, 4.37496930e-01, 2.80450284e-01, 1.61552176e-01,\n",
       "       4.14586216e-01, 9.81395096e-02, 4.00729090e-01, 3.46807212e-01,\n",
       "       3.61004770e-01, 4.51627457e-05, 3.36492211e-01, 1.48542032e-01,\n",
       "       3.16642553e-01, 8.22378136e-03, 2.73870170e-01, 2.00357080e-01,\n",
       "       1.02492668e-01, 7.22211823e-02, 2.07113512e-02, 2.62060583e-01,\n",
       "       1.27637699e-01, 3.29355657e-01, 1.94705009e-01, 6.66255653e-02,\n",
       "       1.55732825e-01, 4.32879031e-01, 2.03035489e-01, 3.53124142e-01,\n",
       "       3.91508430e-01, 3.99618089e-01, 4.54679519e-01, 2.31686145e-01,\n",
       "       3.96688610e-01, 3.52121115e-01, 2.27372989e-01, 7.09019648e-03,\n",
       "       1.70356110e-01, 3.30192447e-01, 1.39494106e-01, 1.85998961e-01,\n",
       "       1.55039400e-01, 2.26743892e-01, 4.43262756e-01, 5.38765043e-02,\n",
       "       4.53663170e-01, 2.83286929e-01, 4.71858054e-01, 3.44711661e-01,\n",
       "       4.38394487e-01, 2.25052670e-01, 3.18145454e-01, 9.06238779e-02,\n",
       "       1.60406113e-01, 2.48271927e-01, 4.23981667e-01, 3.80242765e-01,\n",
       "       2.79781789e-01, 3.65320325e-01, 1.96245283e-01, 3.77050579e-01,\n",
       "       3.59550625e-01, 1.52664259e-01, 1.22037522e-01, 1.21968716e-01,\n",
       "       1.99865833e-01, 3.01740050e-01, 3.92002374e-01, 4.38611269e-01,\n",
       "       1.72822282e-01, 1.37960389e-01, 3.39131743e-01, 2.32636422e-01,\n",
       "       2.58214742e-01, 3.04337293e-01, 2.87971258e-01, 3.13475192e-01,\n",
       "       3.98668319e-01, 1.28403187e-01, 5.85289374e-02, 2.07951203e-01,\n",
       "       4.03139949e-01, 1.71802878e-01, 3.72630432e-02, 7.48221530e-03,\n",
       "       6.86774105e-02, 3.81452084e-01, 3.02080493e-02, 2.69390881e-01,\n",
       "       1.07847340e-01, 7.69759789e-02, 4.58990932e-01, 2.26147428e-01,\n",
       "       7.11613074e-02, 4.09255892e-01, 3.77255291e-01, 1.97289884e-01,\n",
       "       1.96091291e-02, 1.72425926e-01, 2.23676726e-01, 2.42297381e-01,\n",
       "       1.42558932e-01, 4.40845102e-01, 3.16371113e-01, 7.71771744e-02,\n",
       "       4.65013564e-01, 2.47658882e-02, 4.35363829e-01, 2.97750294e-01,\n",
       "       2.98415747e-04, 1.83306366e-01, 2.15527192e-01, 3.78127366e-01,\n",
       "       3.10412526e-01, 3.12623203e-01, 1.15076713e-01, 1.42139733e-01,\n",
       "       5.71457371e-02, 1.70066491e-01, 1.90686569e-01, 2.74991840e-01,\n",
       "       3.03627640e-01, 4.26908702e-01, 4.82839882e-01, 8.82963836e-02,\n",
       "       3.83260399e-01, 1.54316038e-01, 4.37449157e-01, 1.24174625e-01,\n",
       "       1.65453985e-01, 3.52524161e-01, 2.66385406e-01, 3.05452019e-01,\n",
       "       3.22453111e-01, 1.36852354e-01, 8.85649845e-02, 3.88563633e-01,\n",
       "       4.49447669e-02, 4.03949797e-01, 2.73867548e-02, 1.09229900e-01,\n",
       "       4.36309844e-01, 9.83570889e-02, 2.63867259e-01, 2.96029627e-01,\n",
       "       1.17316149e-01], dtype=float32)"
      ]
     },
     "execution_count": 173,
     "metadata": {
      "tags": []
     },
     "output_type": "execute_result"
    }
   ],
   "source": [
    "true_prob_error"
   ]
  },
  {
   "cell_type": "markdown",
   "metadata": {
    "id": "6uBawGuNezDx"
   },
   "source": [
    "## Difference between Probability of Predicted Label & True Label :"
   ]
  },
  {
   "cell_type": "code",
   "execution_count": 174,
   "metadata": {
    "id": "dZZQ19PWek-q"
   },
   "outputs": [],
   "source": [
    "delta_pred_true_error = y_pred_error_prob - true_prob_error"
   ]
  },
  {
   "cell_type": "code",
   "execution_count": 175,
   "metadata": {
    "colab": {
     "base_uri": "https://localhost:8080/"
    },
    "id": "E0qy2IV0fDXy",
    "outputId": "2294a2eb-4688-4c85-ab0a-6888b6df39c6"
   },
   "outputs": [
    {
     "data": {
      "text/plain": [
       "array([4.20264930e-01, 3.47128510e-03, 1.21793836e-01, 6.41024709e-01,\n",
       "       6.03726506e-01, 6.74983263e-01, 5.71492314e-03, 2.35318422e-01,\n",
       "       6.62522793e-01, 9.41439867e-02, 1.34656832e-01, 1.19135857e-01,\n",
       "       7.96708465e-02, 2.30559736e-01, 6.65410399e-01, 3.81097138e-01,\n",
       "       5.52174687e-01, 1.03967786e-01, 9.79654789e-01, 4.56637174e-01,\n",
       "       6.86403632e-01, 2.37253398e-01, 3.48157436e-01, 1.99059069e-01,\n",
       "       4.85231042e-01, 6.80377007e-01, 2.41943985e-01, 2.42917120e-01,\n",
       "       1.34780258e-01, 4.01533246e-02, 1.11370265e-01, 3.57237905e-01,\n",
       "       2.69909143e-01, 2.85939574e-01, 9.97337818e-01, 1.69536978e-01,\n",
       "       5.45189977e-01, 4.23093557e-01, 1.43687308e-01, 5.62049150e-02,\n",
       "       6.34464622e-02, 3.20702761e-01, 1.31755173e-01, 6.99716032e-01,\n",
       "       2.15258121e-01, 3.71243119e-01, 6.29296541e-01, 4.12682652e-01,\n",
       "       8.60839635e-02, 6.57774210e-02, 4.10629481e-01, 2.03569561e-01,\n",
       "       4.33185607e-01, 8.44214618e-01, 2.92000622e-01, 7.84756541e-02,\n",
       "       1.16218060e-01, 7.23006785e-01, 6.59401774e-01, 5.65554142e-01,\n",
       "       1.23554319e-01, 8.83781075e-01, 1.81100011e-01, 5.14111400e-01,\n",
       "       1.39570236e-03, 6.10639095e-01, 3.36709529e-01, 3.74517739e-01,\n",
       "       3.66755635e-01, 1.34728760e-01, 4.39680040e-01, 7.65141428e-01,\n",
       "       6.90319538e-01, 2.08596289e-01, 6.99348927e-01, 2.08297700e-01,\n",
       "       2.22703815e-03, 7.43128777e-01, 9.53363001e-01, 3.87715727e-01,\n",
       "       1.07353508e-01, 3.06613415e-01, 1.29332244e-02, 1.15637571e-01,\n",
       "       1.69412792e-02, 1.76045418e-01, 2.10129768e-01, 3.63259792e-01,\n",
       "       3.25903684e-01, 4.83517349e-01, 7.50002205e-01, 2.34099925e-02,\n",
       "       5.89699447e-01, 8.38439524e-01, 8.28112125e-01, 3.15134019e-01,\n",
       "       3.27171504e-01, 5.53176343e-01, 2.18069494e-01, 1.38311863e-01,\n",
       "       2.31444508e-01, 6.37111306e-01, 1.02555156e-02, 6.70703948e-01,\n",
       "       9.58144128e-01, 3.02074999e-01, 6.46204650e-01, 2.18701869e-01,\n",
       "       4.91851389e-01, 8.14657152e-01, 8.41027796e-02, 1.33196712e-02,\n",
       "       3.13949257e-01, 1.13402605e-02, 7.30485976e-01, 8.50857913e-01,\n",
       "       1.23499528e-01, 6.88279450e-01, 1.97356433e-01, 2.68038750e-01,\n",
       "       1.41551226e-01, 1.39620453e-01, 3.13819945e-02, 1.07600749e-01,\n",
       "       4.58050370e-01, 1.41772628e-01, 5.88285923e-01, 5.35861850e-02,\n",
       "       2.38308817e-01, 9.07011628e-01, 2.38586068e-02, 6.37498081e-01,\n",
       "       2.16457903e-01, 4.39063758e-01, 2.63711870e-01, 2.59536326e-01,\n",
       "       2.44426072e-01, 3.10131162e-01, 9.51240063e-02, 1.98188752e-01,\n",
       "       5.42851388e-02, 3.77505153e-01, 3.05546135e-01, 5.04618883e-03,\n",
       "       2.84982681e-01, 1.13997310e-01, 9.23333645e-01, 2.35125721e-01,\n",
       "       4.61086690e-01, 4.25129831e-01, 5.81965148e-02, 1.29629761e-01,\n",
       "       2.38724262e-01, 4.71575588e-01, 4.08856571e-02, 9.89100337e-03,\n",
       "       3.32663208e-01, 6.56060696e-01, 8.58923316e-01, 5.42679727e-01,\n",
       "       4.48567063e-01, 7.52792656e-02, 3.56549531e-01, 4.32911009e-01,\n",
       "       5.54594398e-02, 9.37637985e-02, 5.06275594e-01, 2.70961970e-01,\n",
       "       3.57117444e-01, 8.31059515e-02, 4.23645675e-02, 6.18400931e-01,\n",
       "       3.59160602e-02, 1.91373795e-01, 6.15375340e-02, 2.22128183e-01,\n",
       "       6.38540447e-01, 2.93801218e-01, 8.38408768e-01, 3.39266211e-01,\n",
       "       8.75577331e-02, 6.39631391e-01, 6.96309507e-02, 2.68308938e-01,\n",
       "       2.81041771e-01, 4.24235553e-01, 2.49280483e-01, 5.16907036e-01,\n",
       "       6.61326051e-01, 2.03753948e-01, 5.35073757e-01, 4.75382507e-01,\n",
       "       4.57094401e-01, 3.18722010e-01, 1.35051742e-01, 6.86371326e-03,\n",
       "       5.80681741e-01, 4.90435928e-01, 1.92109510e-01, 1.64046839e-01,\n",
       "       6.94689870e-01, 6.80018067e-02, 6.39285564e-01, 2.27899253e-02,\n",
       "       6.49761617e-01, 3.40689808e-01, 6.17844760e-01, 3.40463072e-01,\n",
       "       1.62204489e-01, 3.34933132e-01, 9.75543022e-01, 8.03706050e-01,\n",
       "       2.26502508e-01, 3.30953032e-01, 9.15397882e-01, 1.65242493e-01,\n",
       "       2.30744600e-01, 5.14123082e-01, 8.93033803e-01, 9.70547974e-01,\n",
       "       2.21712977e-01, 2.21443638e-01, 1.93783283e-01, 4.21202868e-01,\n",
       "       2.11866200e-01, 1.83946878e-01, 2.15745091e-01, 4.82219189e-01,\n",
       "       2.47719079e-01, 6.87116265e-01, 1.26340687e-02, 7.42853284e-01,\n",
       "       2.03230023e-01, 3.44516069e-01, 5.08498669e-01, 3.15445065e-02,\n",
       "       2.42089868e-01, 3.00618708e-01, 1.70009583e-01, 1.02763891e-01,\n",
       "       7.69901872e-02, 1.77684456e-01, 4.52128083e-01, 5.38356245e-01,\n",
       "       3.00112367e-02, 5.13365865e-03, 3.01719129e-01, 3.14699411e-01,\n",
       "       5.11988044e-01, 8.45530331e-02, 1.26341984e-01, 3.88207257e-01,\n",
       "       6.06142402e-01, 3.69689405e-01, 1.90561742e-01, 7.86707848e-02,\n",
       "       3.56984854e-01, 5.89093685e-01, 1.99062526e-01, 5.67088127e-02,\n",
       "       8.21002781e-01, 7.17898190e-01, 5.17925501e-01, 1.24159157e-02,\n",
       "       9.71480310e-01, 6.46429837e-01, 7.04626441e-01, 1.53767139e-01,\n",
       "       4.98347193e-01, 2.46690720e-01, 8.29691291e-02, 7.68193185e-01,\n",
       "       1.09296948e-01, 4.73524630e-02, 7.69429803e-01, 2.26426393e-01,\n",
       "       5.84399521e-01, 2.23962784e-01, 3.87922227e-01, 4.52944338e-02,\n",
       "       3.15877706e-01, 6.29311442e-01, 2.10276127e-01, 6.70928359e-02,\n",
       "       3.09627056e-02, 1.07558548e-01, 9.62197781e-04, 3.78407240e-02,\n",
       "       2.34399945e-01, 4.15332019e-01, 9.57374334e-01, 9.17663574e-01,\n",
       "       1.80771828e-01, 1.33743197e-01, 3.48455310e-01, 6.41063213e-01,\n",
       "       8.86954367e-02, 6.75639510e-02, 7.27821589e-02, 1.42469943e-01,\n",
       "       7.91185081e-01, 2.52556294e-01, 3.41312647e-01, 5.85550070e-03,\n",
       "       6.56847417e-01, 1.68930501e-01, 2.48327509e-01, 8.31920326e-01,\n",
       "       2.14257985e-01, 6.06676579e-01, 2.39932507e-01, 5.23192644e-01,\n",
       "       4.12720382e-01, 9.99989808e-01, 6.79668069e-01, 1.10973507e-01,\n",
       "       3.99376601e-01, 9.79126394e-02, 6.93718016e-01, 1.69267774e-01,\n",
       "       4.21038508e-01, 9.92795527e-02, 9.66498852e-02, 1.54551923e-01,\n",
       "       8.82486463e-01, 9.47225690e-01, 3.49081755e-02, 1.10129863e-01,\n",
       "       3.87033701e-01, 4.47113574e-01, 1.02320045e-01, 5.79652190e-01,\n",
       "       6.13458455e-02, 9.11164284e-02, 1.33283585e-01, 4.84094620e-01,\n",
       "       4.86748666e-01, 2.40495831e-01, 4.72752035e-01, 3.47357124e-01,\n",
       "       4.10954058e-02, 1.32099003e-01, 1.99080497e-01, 6.32867694e-01,\n",
       "       1.99617535e-01, 5.44345975e-01, 6.10307515e-01, 1.35603651e-01,\n",
       "       7.88212657e-01, 6.29758835e-03, 6.08628392e-01, 7.22886622e-02,\n",
       "       4.49566454e-01, 1.71280593e-01, 7.17980802e-01, 6.52484298e-02,\n",
       "       9.47770298e-01, 2.06526041e-01, 5.70644736e-02, 4.06637996e-01,\n",
       "       6.73411012e-01, 5.49514294e-01, 2.01328114e-01, 2.18286604e-01,\n",
       "       4.31541204e-01, 2.32571036e-01, 1.41897798e-02, 4.89196777e-01,\n",
       "       1.41595304e-02, 5.04105330e-01, 3.65674853e-01, 3.51990044e-01,\n",
       "       3.57011795e-01, 7.32446909e-02, 4.99300450e-01, 8.35948586e-01,\n",
       "       4.85394746e-01, 4.01938677e-01, 3.35648715e-01, 4.15491045e-01,\n",
       "       2.49255508e-01, 1.97799325e-01, 6.42385006e-01, 9.00210738e-02,\n",
       "       6.38024688e-01, 2.20242262e-01, 6.44925594e-01, 6.26625121e-02,\n",
       "       5.22961915e-02, 8.05353582e-01, 1.59721971e-02, 2.79431820e-01,\n",
       "       4.95856404e-02, 2.65236944e-01, 2.20747679e-01, 2.02482611e-01,\n",
       "       8.33703995e-01, 2.11457908e-01, 3.95714700e-01, 8.71412933e-01,\n",
       "       2.14201510e-01, 8.14561129e-01, 2.76800513e-01, 8.60845506e-01,\n",
       "       3.44187289e-01, 4.03479457e-01, 1.10600829e-01, 2.65243560e-01,\n",
       "       3.08860004e-01, 1.42513812e-01, 1.57052010e-01, 6.07861876e-01,\n",
       "       5.96855134e-02, 6.65964782e-01, 5.99791408e-01, 4.40994471e-01,\n",
       "       6.77243888e-01, 2.48753279e-02, 9.02831256e-02, 4.76175368e-01,\n",
       "       8.16710055e-01, 2.70357370e-01, 1.77467555e-01, 5.46110868e-01,\n",
       "       8.59087944e-01, 5.43087959e-01, 4.00517821e-01, 1.74887836e-01,\n",
       "       1.57060325e-02, 1.03153735e-01, 4.64040011e-01, 3.50626528e-01,\n",
       "       9.94517982e-01, 1.77622810e-01, 5.77824414e-02, 4.08642441e-02,\n",
       "       9.10175741e-02, 1.13731623e-01, 6.19750619e-02, 6.59262657e-01,\n",
       "       8.42733830e-02, 2.48153359e-01, 5.35679042e-01, 6.99062765e-01,\n",
       "       9.00359452e-02, 2.61184275e-01, 5.78665078e-01, 6.62171543e-01,\n",
       "       2.84738302e-01, 3.61086875e-02, 9.15343702e-01, 4.60832268e-01,\n",
       "       2.35590816e-01, 2.12648213e-02, 9.14517522e-01, 2.70500511e-01,\n",
       "       2.10104495e-01, 4.77496684e-01, 9.29553807e-02, 3.34414899e-01,\n",
       "       2.49852836e-02, 3.14863026e-02, 4.41104829e-01, 3.45412374e-01,\n",
       "       1.26068890e-02, 1.64640546e-02, 4.08879161e-01, 1.57310814e-01,\n",
       "       4.79740918e-01, 3.87682080e-01, 6.08659923e-01, 4.08785462e-01,\n",
       "       9.29614902e-02, 8.62371624e-02, 6.89586699e-02, 3.03088158e-01,\n",
       "       7.24184811e-01, 1.84316546e-01, 2.75915384e-01, 5.09077966e-01,\n",
       "       2.04661161e-01, 3.53842139e-01, 1.66649848e-01, 6.50110066e-01,\n",
       "       4.09527749e-01, 1.67755038e-01, 4.63935941e-01, 2.49371529e-02,\n",
       "       1.86202109e-01, 1.81846455e-01, 2.68338561e-01, 8.52658033e-01,\n",
       "       6.85683191e-02, 1.72953054e-01, 2.15669423e-01, 1.28649592e-01,\n",
       "       7.05997884e-01, 2.21302956e-01, 6.97915912e-01, 7.57397890e-01,\n",
       "       7.93026686e-02, 1.62813544e-01, 5.76983333e-01, 2.60840386e-01,\n",
       "       3.42713296e-01, 1.40442848e-01, 8.10059011e-01, 8.02673697e-01,\n",
       "       2.11699605e-02, 7.32170045e-02, 3.47757757e-01, 9.95365977e-02,\n",
       "       2.99379349e-01, 3.43504816e-01, 6.09386981e-01, 3.39540392e-01,\n",
       "       4.97479945e-01, 2.62193561e-01, 5.01491547e-01, 1.99557424e-01,\n",
       "       4.14578319e-02, 3.30414027e-01, 1.60476893e-01, 3.93651456e-01,\n",
       "       9.37375486e-01, 4.24476892e-01, 2.09639192e-01, 1.89121813e-01,\n",
       "       2.16661483e-01, 7.43038356e-02, 1.50002778e-01, 1.33774519e-01,\n",
       "       6.00636840e-01, 9.98134613e-01, 1.99076563e-01, 3.16061318e-01,\n",
       "       6.34994864e-01, 8.35911274e-01, 4.68306482e-01, 3.26293737e-01,\n",
       "       7.80256093e-02, 2.94310749e-02, 6.65720403e-01, 7.32217669e-01,\n",
       "       5.54256916e-01, 1.10209882e-01, 1.92588553e-01, 2.69000292e-01,\n",
       "       5.28053045e-01, 2.21876591e-01, 5.68859398e-01, 5.85887730e-01,\n",
       "       5.20266593e-01, 2.34102383e-01, 1.28586397e-01, 3.18111479e-01,\n",
       "       8.55007887e-01, 6.00052953e-01, 5.61970472e-01, 3.83639932e-01,\n",
       "       9.63797212e-01, 9.78026450e-01, 1.02010250e-01, 5.82743734e-02,\n",
       "       3.53798866e-02, 3.90480846e-01, 1.74288809e-01, 2.62621373e-01,\n",
       "       1.50018990e-01, 6.98195100e-01, 3.28858823e-01, 2.41543353e-02,\n",
       "       1.16472185e-01, 1.05702728e-01, 8.90260875e-01, 2.21130252e-03,\n",
       "       6.59882545e-01, 6.64363086e-01, 4.36846495e-01, 4.84203905e-01,\n",
       "       7.88146317e-01, 1.23376802e-01, 3.03666502e-01, 9.60625410e-01,\n",
       "       9.65390503e-02, 4.47313070e-01, 9.85178053e-02, 3.76881599e-01,\n",
       "       3.27765048e-02, 1.22362405e-01, 2.22445488e-01, 6.31337702e-01,\n",
       "       1.53309494e-01, 4.04475868e-01, 1.92172259e-01, 3.04857343e-01,\n",
       "       2.48768628e-01, 9.99577761e-01, 2.87726372e-01, 7.01996207e-01,\n",
       "       3.50881964e-01, 6.42033756e-01, 1.69630766e-01, 3.20773959e-01,\n",
       "       6.94762111e-01, 8.54313850e-01, 2.85019070e-01, 4.50634599e-01,\n",
       "       3.96379054e-01, 3.25349689e-01, 2.15319842e-01, 8.26070786e-01,\n",
       "       2.07515255e-01, 5.00229299e-02, 4.14897382e-01, 2.74008930e-01,\n",
       "       4.78188396e-02, 1.50080144e-01, 6.57919347e-02, 2.78150529e-01,\n",
       "       1.59688860e-01, 1.53873622e-01, 5.22712409e-01, 8.67456734e-01,\n",
       "       3.64570796e-01, 7.80217052e-02, 3.06033194e-01, 3.89225960e-01,\n",
       "       6.88909054e-01, 1.98085710e-01, 3.89375389e-02, 8.87766838e-01,\n",
       "       6.27492666e-02, 2.08369017e-01, 1.94633305e-02, 2.00025439e-01,\n",
       "       7.48780370e-02, 2.42178574e-01, 1.86994135e-01, 4.43328232e-01,\n",
       "       6.76342964e-01, 4.37082708e-01, 1.28051460e-01, 9.96879935e-02,\n",
       "       4.26079422e-01, 1.84129119e-01, 4.16489810e-01, 9.63010490e-02,\n",
       "       1.10791326e-01, 4.11495626e-01, 4.89693999e-01, 6.16429329e-01,\n",
       "       5.95340908e-01, 2.95321822e-01, 8.05358887e-02, 1.15651667e-01,\n",
       "       6.35392845e-01, 1.35536715e-01, 1.83832794e-01, 1.49000347e-01,\n",
       "       2.81500012e-01, 2.91422635e-01, 2.33175695e-01, 3.39174092e-01,\n",
       "       1.07851833e-01, 3.47942531e-01, 2.90391475e-01, 2.78053761e-01,\n",
       "       1.89284205e-01, 6.27684355e-01, 8.49437118e-01, 6.46286845e-01,\n",
       "       7.80212700e-01, 1.46607280e-01, 3.50824147e-01, 4.61193860e-01,\n",
       "       6.57553911e-01, 8.43161941e-01, 3.37168872e-02, 4.12317812e-01,\n",
       "       8.53510678e-01, 1.25082582e-01, 1.95331663e-01, 5.74932098e-01,\n",
       "       5.66824913e-01, 3.38422418e-01, 1.22009829e-01, 1.97861791e-01,\n",
       "       5.27761459e-01, 1.10311657e-01, 2.52070040e-01, 3.32643718e-01,\n",
       "       4.69869375e-02, 5.23672163e-01, 3.73254120e-02, 2.26072490e-01,\n",
       "       9.98021245e-01, 4.57133800e-01, 3.52244556e-01, 2.05135196e-01,\n",
       "       1.81256086e-01, 1.52818322e-01, 4.80810881e-01, 6.97993279e-01,\n",
       "       6.97541773e-01, 6.41639888e-01, 5.63503206e-01, 9.93328989e-02,\n",
       "       1.84406430e-01, 1.41002566e-01, 3.14636230e-02, 6.62252069e-01,\n",
       "       2.02484280e-01, 4.21534568e-01, 1.98015571e-02, 6.32953763e-01,\n",
       "       4.41223204e-01, 2.80460596e-01, 2.47223109e-01, 1.53803706e-01,\n",
       "       3.17703396e-01, 4.06485587e-01, 6.85796678e-01, 2.02553809e-01,\n",
       "       4.97471929e-01, 1.85035408e-01, 2.98873335e-01, 2.91634768e-01,\n",
       "       1.19715363e-01, 1.59221709e-01, 2.27398247e-01, 1.55048847e-01,\n",
       "       2.47111768e-01], dtype=float32)"
      ]
     },
     "execution_count": 175,
     "metadata": {
      "tags": []
     },
     "output_type": "execute_result"
    }
   ],
   "source": [
    "delta_pred_true_error"
   ]
  },
  {
   "cell_type": "markdown",
   "metadata": {
    "id": "iFsXs23JfIMa"
   },
   "source": [
    "## Sorted list of high difference error Probabilities :"
   ]
  },
  {
   "cell_type": "code",
   "execution_count": 176,
   "metadata": {
    "id": "kBrz-yimfEU1"
   },
   "outputs": [],
   "source": [
    "sorted_errors = np.argsort(delta_pred_true_error)"
   ]
  },
  {
   "cell_type": "code",
   "execution_count": 177,
   "metadata": {
    "colab": {
     "base_uri": "https://localhost:8080/"
    },
    "id": "4rvo-aD1fW0o",
    "outputId": "902bbc16-d8e9-4e83-f4a2-7afc5843a07b"
   },
   "outputs": [
    {
     "data": {
      "text/plain": [
       "array([286,  64, 575,  76,   1, 143, 245,   6, 303, 349, 195, 155, 102,\n",
       "       113, 263, 464, 230,  82, 111, 368, 366, 428, 390, 465,  84, 634,\n",
       "       714, 508, 453, 203,  91, 130, 571, 417, 487, 460, 541, 244, 284,\n",
       "       122, 710, 461, 235, 588, 678, 326, 564, 172, 449, 694, 287, 630,\n",
       "        29, 435, 154, 340, 520, 170, 279, 692, 273, 616, 392, 613, 388,\n",
       "       127, 140, 164,  39, 259, 358, 434, 150, 563, 412, 332, 174, 438,\n",
       "       387, 632,  40, 355,  49, 618, 283, 297, 201, 492, 474, 182, 351,\n",
       "       298, 509, 373, 529, 636, 161, 240, 625, 540,  55, 255, 500,  12,\n",
       "       654, 270, 169, 110, 440, 249,  48, 473, 180, 296, 383, 444, 418,\n",
       "       436, 333, 458, 472, 165,   9, 138, 647, 584, 322, 317, 586, 321,\n",
       "       707, 511, 643, 562, 330, 239, 429,  17, 573,  80, 285, 123, 664,\n",
       "       272, 327, 545, 689, 406, 648, 315,  30, 437, 145,  83, 655,  56,\n",
       "       572,  11, 728,   2, 686, 589, 581, 116,  60, 681, 250, 642, 554,\n",
       "       495, 151,  42, 341, 334, 293, 531,  10,  69,  28, 194, 657, 347,\n",
       "        99, 121, 505, 709, 120, 125, 299, 409,  38, 673, 659, 530, 568,\n",
       "       617, 701, 592, 267, 719, 621, 323, 731, 410, 467, 729, 620, 522,\n",
       "       208, 501, 199, 215, 482, 485, 305, 319,  35, 602, 238, 353, 493,\n",
       "       566, 427,  85, 422, 433, 241, 292,  62, 700, 489, 658, 225, 645,\n",
       "       477, 708, 725, 488, 638, 527, 668, 254, 173, 198, 594, 546, 222,\n",
       "       682, 118, 381, 687, 629, 139,  23, 258, 534, 342, 519, 344, 635,\n",
       "       362, 395, 712, 723, 232,  51, 189, 480, 699, 357, 612,  75, 633,\n",
       "        73, 526, 456,  86, 282, 397, 224, 400, 308,  44, 610, 494, 226,\n",
       "       132, 528,  98, 363, 107, 385, 394, 497, 221, 220, 549, 175, 590,\n",
       "       277, 695, 275, 212, 730,  13, 216, 100, 365, 662, 553, 288, 147,\n",
       "         7, 452,  21, 128, 152, 310, 337,  26, 236, 637,  27, 136, 269,\n",
       "       732, 718, 228, 441, 306, 596, 380, 186, 690, 301, 135, 503, 445,\n",
       "       517, 567, 134, 393, 407, 119, 183, 490, 547,  32, 421, 455, 167,\n",
       "       615, 478, 402, 667, 619, 391, 717, 184, 660, 448, 144, 606,  33,\n",
       "       598, 666, 661, 727,  54, 177, 653, 726, 512, 237, 246, 105, 475,\n",
       "       582, 595, 142, 626,  81, 408, 137, 112, 247,  95, 280, 535, 720,\n",
       "       555, 193,  41, 603, 609,  88, 539,  96, 570, 521, 213, 691, 156,\n",
       "       459, 209, 378,  66, 685, 663, 179, 515, 207, 205, 302, 504, 513,\n",
       "       404, 233, 463, 339, 510, 665,  22, 294, 431, 674, 600, 371, 698,\n",
       "       481, 162, 256, 372, 168,  31,  87, 624, 370,  68, 253,  45,  67,\n",
       "       587, 141,  15, 559, 328, 469,  79, 278, 251, 627, 565, 523, 398,\n",
       "       608, 316, 426, 377, 405, 593, 721, 359, 471, 466, 484,  50, 649,\n",
       "       679,  47, 312, 614, 289, 379, 646,   0, 320, 223, 713,  37, 185,\n",
       "       525, 149, 644, 364, 163,  52, 578, 641, 133,  70, 415, 462, 716,\n",
       "       639, 329, 585, 160, 352, 607, 242,  19, 192, 697, 124, 451, 148,\n",
       "       675, 486, 430, 538, 153, 338, 191, 419, 457, 468, 702, 227,  89,\n",
       "       335, 579,  24, 376, 336, 367, 650, 197, 108, 724, 516, 268, 374,\n",
       "       518, 369, 166, 234, 479, 248,  63, 217, 187, 262, 552, 622, 311,\n",
       "       693, 688, 548, 190, 442, 243, 159, 425, 345,  36, 423, 361,  16,\n",
       "        97, 544, 558, 706,  59, 684, 550, 683, 502, 446, 331, 196, 276,\n",
       "       551, 126, 257,  92, 652, 414, 557, 532,   4, 252, 309, 411, 350,\n",
       "       470, 514, 346,  65, 651, 206, 171, 669,  46, 281, 591, 343, 715,\n",
       "       536, 656, 101, 131, 384, 176, 202, 181,   3, 295, 705, 601, 382,\n",
       "       386, 106, 671, 265, 204, 483, 157, 304, 676, 439,  58, 576, 188,\n",
       "       447, 711,   8, 577,  14, 542, 413, 103, 360,   5, 640, 416, 314,\n",
       "        25, 722,  20, 229, 117, 628,  72, 318, 200, 604, 704, 498, 703,\n",
       "       569, 443,  74,  43, 599, 266, 496, 261, 354,  57, 476, 114, 543,\n",
       "       231,  77,  90, 499,  71, 271, 274, 672, 580, 348, 300, 507, 211,\n",
       "       389, 506, 401, 109, 420, 260, 611,  94, 307, 396, 537, 375, 178,\n",
       "        93, 677,  53, 670, 115, 491, 680, 605, 556, 158, 424, 403, 623,\n",
       "       399, 324,  61, 631, 574, 218, 129, 454, 450, 214, 291, 146, 524,\n",
       "       325, 356,  78, 290, 104, 583, 560, 219, 264, 210, 561,  18, 432,\n",
       "        34, 696, 533, 597, 313])"
      ]
     },
     "execution_count": 177,
     "metadata": {
      "tags": []
     },
     "output_type": "execute_result"
    }
   ],
   "source": [
    "# Index of high error predicted Digit :\n",
    "sorted_errors"
   ]
  },
  {
   "cell_type": "markdown",
   "metadata": {
    "id": "neFvQk1HfcK1"
   },
   "source": [
    "# Show Top 25 Error :"
   ]
  },
  {
   "cell_type": "code",
   "execution_count": 196,
   "metadata": {
    "id": "rJnkhqpPZ3r3"
   },
   "outputs": [],
   "source": [
    "cat = {0: 'T-shirt/top',1: 'Trouser',2: 'Pullover',3: 'Dress',4: 'Coat',5: 'Sandal',6: 'Shirt',7: 'Sneaker',8: 'Bag',9: 'Ankle boot' }"
   ]
  },
  {
   "cell_type": "code",
   "execution_count": 195,
   "metadata": {
    "colab": {
     "base_uri": "https://localhost:8080/",
     "height": 35
    },
    "id": "dpQTw1cYaq79",
    "outputId": "9c72b0ac-0f9c-4774-c48f-6906585e3717"
   },
   "outputs": [
    {
     "data": {
      "application/vnd.google.colaboratory.intrinsic+json": {
       "type": "string"
      },
      "text/plain": [
       "'T-shirt/top'"
      ]
     },
     "execution_count": 195,
     "metadata": {
      "tags": []
     },
     "output_type": "execute_result"
    }
   ],
   "source": [
    "cat[0]"
   ]
  },
  {
   "cell_type": "code",
   "execution_count": 178,
   "metadata": {
    "id": "kpiZYtUofZaR"
   },
   "outputs": [],
   "source": [
    "top_error = sorted_errors[-25:]"
   ]
  },
  {
   "cell_type": "code",
   "execution_count": 179,
   "metadata": {
    "colab": {
     "base_uri": "https://localhost:8080/"
    },
    "id": "DAH6zSmNfmvH",
    "outputId": "e8b573b7-a7ad-4643-d333-feab2ec8baa3"
   },
   "outputs": [
    {
     "data": {
      "text/plain": [
       "array([129, 454, 450, 214, 291, 146, 524, 325, 356,  78, 290, 104, 583,\n",
       "       560, 219, 264, 210, 561,  18, 432,  34, 696, 533, 597, 313])"
      ]
     },
     "execution_count": 179,
     "metadata": {
      "tags": []
     },
     "output_type": "execute_result"
    }
   ],
   "source": [
    "top_error"
   ]
  },
  {
   "cell_type": "code",
   "execution_count": 197,
   "metadata": {
    "colab": {
     "base_uri": "https://localhost:8080/",
     "height": 894
    },
    "id": "amccIWUzfnxq",
    "outputId": "57438690-37f5-4eff-a17c-1975a3036539"
   },
   "outputs": [
    {
     "data": {
      "image/png": "[encoded data removed]",
      "text/plain": [
       "<Figure size 1440x1080 with 25 Axes>"
      ]
     },
     "metadata": {
      "needs_background": "light",
      "tags": []
     },
     "output_type": "display_data"
    }
   ],
   "source": [
    "n = 0\n",
    "nrows = 5\n",
    "ncols = 5\n",
    "fig, ax = plt.subplots(nrows, ncols, sharex=True, sharey=True , figsize=(20,15))\n",
    "for row in range(nrows):\n",
    "  for col in range(ncols):\n",
    "    error = top_error[n]\n",
    "    ax[row, col].imshow((x_val_error[error]).reshape((28,28)))\n",
    "    ax[row, col].set_title(\"Predicted label :{}\\nTrue label :{}\".format(cat[y_pred_classes_error[error]], cat[y_true_error[error]]))\n",
    "    n += 1"
   ]
  },
  {
   "cell_type": "markdown",
   "metadata": {
    "id": "Yp2_p-lNgGmR"
   },
   "source": [
    "# Calculation For Correctly Predicted Class :"
   ]
  },
  {
   "cell_type": "code",
   "execution_count": 181,
   "metadata": {
    "id": "CkMY5szEfsCV"
   },
   "outputs": [],
   "source": [
    "correct = (y_pred_classes - y_true == 0)"
   ]
  },
  {
   "cell_type": "code",
   "execution_count": 182,
   "metadata": {
    "colab": {
     "base_uri": "https://localhost:8080/"
    },
    "id": "jgOZZqvzgT0H",
    "outputId": "81c0262f-bb19-4216-ad39-d338ba61542b"
   },
   "outputs": [
    {
     "data": {
      "text/plain": [
       "array([ True,  True,  True, ...,  True,  True,  True])"
      ]
     },
     "execution_count": 182,
     "metadata": {
      "tags": []
     },
     "output_type": "execute_result"
    }
   ],
   "source": [
    "correct"
   ]
  },
  {
   "cell_type": "code",
   "execution_count": 183,
   "metadata": {
    "id": "ypFFvXmZgU00"
   },
   "outputs": [],
   "source": [
    "# Assigning indexes of correct prediction :\n",
    "y_pred_classes_crt = y_pred_classes[correct]\n",
    "y_pred_crt = y_pred[correct]\n",
    "y_true_crt = y_true[correct]\n",
    "x_val_crt = x_test[correct]"
   ]
  },
  {
   "cell_type": "code",
   "execution_count": 184,
   "metadata": {
    "colab": {
     "base_uri": "https://localhost:8080/"
    },
    "id": "kkgbwRwGgwmO",
    "outputId": "3f04a7ab-bf19-48af-a5b6-7324b6bc0d75"
   },
   "outputs": [
    {
     "data": {
      "text/plain": [
       "array([8, 4, 7, ..., 6, 3, 5])"
      ]
     },
     "execution_count": 184,
     "metadata": {
      "tags": []
     },
     "output_type": "execute_result"
    }
   ],
   "source": [
    "y_pred_classes_crt"
   ]
  },
  {
   "cell_type": "code",
   "execution_count": 185,
   "metadata": {
    "colab": {
     "base_uri": "https://localhost:8080/"
    },
    "id": "38pBuJvMgzyP",
    "outputId": "149a8416-a428-400e-e2c7-7d1c2ea2844f"
   },
   "outputs": [
    {
     "data": {
      "text/plain": [
       "array([[4.0527297e-16, 3.3654486e-24, 4.6486025e-17, ..., 6.7676774e-17,\n",
       "        1.0000000e+00, 3.7794996e-19],\n",
       "       [6.0389089e-06, 2.7435345e-09, 3.9529945e-03, ..., 7.4134683e-12,\n",
       "        1.1200337e-07, 1.6945719e-08],\n",
       "       [2.5768804e-07, 3.9944797e-10, 7.2566507e-08, ..., 9.9424148e-01,\n",
       "        9.5990536e-06, 2.5576283e-04],\n",
       "       ...,\n",
       "       [4.7427812e-03, 1.3191299e-06, 2.2525860e-01, ..., 1.3492225e-10,\n",
       "        4.0486764e-05, 5.1480038e-07],\n",
       "       [7.8853816e-02, 1.2990929e-03, 1.2638280e-02, ..., 7.7622366e-07,\n",
       "        6.2377722e-04, 4.1915778e-06],\n",
       "       [1.4026016e-16, 2.4035064e-18, 2.6488394e-14, ..., 3.7453142e-18,\n",
       "        1.0655559e-13, 1.0326265e-13]], dtype=float32)"
      ]
     },
     "execution_count": 185,
     "metadata": {
      "tags": []
     },
     "output_type": "execute_result"
    }
   ],
   "source": [
    "y_pred_crt"
   ]
  },
  {
   "cell_type": "markdown",
   "metadata": {
    "id": "ioqf-RX6hDKB"
   },
   "source": [
    "## Probability of Correct Prediction :"
   ]
  },
  {
   "cell_type": "code",
   "execution_count": 186,
   "metadata": {
    "id": "j-rmgP3siw-A"
   },
   "outputs": [],
   "source": [
    "y_pred_crt_prob = np.max(y_pred_crt, axis=1)"
   ]
  },
  {
   "cell_type": "code",
   "execution_count": 187,
   "metadata": {
    "colab": {
     "base_uri": "https://localhost:8080/"
    },
    "id": "75zdPn_njN3-",
    "outputId": "77c2006d-5897-4d44-c83e-dcbcac673d8c"
   },
   "outputs": [
    {
     "data": {
      "text/plain": [
       "array([1.       , 0.7148784, 0.9942415, ..., 0.7517274, 0.7881318,\n",
       "       1.       ], dtype=float32)"
      ]
     },
     "execution_count": 187,
     "metadata": {
      "tags": []
     },
     "output_type": "execute_result"
    }
   ],
   "source": [
    "y_pred_crt_prob"
   ]
  },
  {
   "cell_type": "code",
   "execution_count": 188,
   "metadata": {
    "id": "ysuTpLvijiDL"
   },
   "outputs": [],
   "source": [
    "sorted_crt = np.argsort(y_pred_crt_prob)"
   ]
  },
  {
   "cell_type": "code",
   "execution_count": 189,
   "metadata": {
    "colab": {
     "base_uri": "https://localhost:8080/"
    },
    "id": "VcV6Fu7VjsFN",
    "outputId": "2caeb46a-9a70-4445-992e-16dc9152345b"
   },
   "outputs": [
    {
     "data": {
      "text/plain": [
       "array([4633, 3785, 1432, ..., 4464, 4416, 8266])"
      ]
     },
     "execution_count": 189,
     "metadata": {
      "tags": []
     },
     "output_type": "execute_result"
    }
   ],
   "source": [
    "sorted_crt"
   ]
  },
  {
   "cell_type": "markdown",
   "metadata": {
    "id": "1-J8k4gpkD4h"
   },
   "source": [
    "# Top 25 Correct Prediction :"
   ]
  },
  {
   "cell_type": "code",
   "execution_count": 190,
   "metadata": {
    "id": "hPZMLSvWjtiM"
   },
   "outputs": [],
   "source": [
    "top_crt = sorted_crt[-25:]"
   ]
  },
  {
   "cell_type": "code",
   "execution_count": 191,
   "metadata": {
    "colab": {
     "base_uri": "https://localhost:8080/"
    },
    "id": "zrXGRurVj9m0",
    "outputId": "f14ba18d-5c75-4d58-9afc-185d9901094b"
   },
   "outputs": [
    {
     "data": {
      "text/plain": [
       "array([4626, 4564, 4368, 4476, 4470, 4372, 4385, 4391, 4392, 4395, 4403,\n",
       "       4404, 4405, 4471, 4407, 4434, 4435, 4437, 4456, 4457, 4458, 4463,\n",
       "       4464, 4416, 8266])"
      ]
     },
     "execution_count": 191,
     "metadata": {
      "tags": []
     },
     "output_type": "execute_result"
    }
   ],
   "source": [
    "top_crt"
   ]
  },
  {
   "cell_type": "code",
   "execution_count": 198,
   "metadata": {
    "colab": {
     "base_uri": "https://localhost:8080/",
     "height": 894
    },
    "id": "OxgXKdUrkOwV",
    "outputId": "ac86d87e-3a97-479e-fbb2-11b1a0eba11b"
   },
   "outputs": [
    {
     "data": {
      "image/png": "[encoded data removed]",
      "text/plain": [
       "<Figure size 1440x1080 with 25 Axes>"
      ]
     },
     "metadata": {
      "needs_background": "light",
      "tags": []
     },
     "output_type": "display_data"
    }
   ],
   "source": [
    "n = 0\n",
    "nrows = 5\n",
    "ncols = 5\n",
    "fig, ax = plt.subplots(nrows, ncols, sharex=True, sharey=True , figsize=(20,15))\n",
    "for row in range(nrows):\n",
    "  for col in range(ncols):\n",
    "    crt = top_crt[n]\n",
    "    ax[row, col].imshow((x_val_crt[crt]).reshape((28,28)))\n",
    "    ax[row, col].set_title(\"Predicted label :{}\\nTrue label :{}\".format(cat[y_pred_classes_crt[crt]], cat[y_true_crt[crt]]))\n",
    "    n += 1"
   ]
  },
  {
   "cell_type": "code",
   "execution_count": null,
   "metadata": {
    "id": "bOi1AwQLkuUA"
   },
   "outputs": [],
   "source": []
  }
 ],
 "metadata": {
  "colab": {
   "name": "fashion_mnist_ass_excelr_ai.ipynb",
   "provenance": []
  },
  "kernelspec": {
   "display_name": "Python 3 (ipykernel)",
   "language": "python",
   "name": "python3"
  },
  "language_info": {
   "codemirror_mode": {
    "name": "ipython",
    "version": 3
   },
   "file_extension": ".py",
   "mimetype": "text/x-python",
   "name": "python",
   "nbconvert_exporter": "python",
   "pygments_lexer": "ipython3",
   "version": "3.8.0"
  }
 },
 "nbformat": 4,
 "nbformat_minor": 1
}
